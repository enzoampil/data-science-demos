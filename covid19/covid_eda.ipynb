{
  "nbformat": 4,
  "nbformat_minor": 0,
  "metadata": {
    "colab": {
      "name": "covid_eda.ipynb",
      "provenance": [],
      "collapsed_sections": [],
      "include_colab_link": true
    },
    "kernelspec": {
      "name": "python3",
      "display_name": "Python 3"
    }
  },
  "cells": [
    {
      "cell_type": "markdown",
      "metadata": {
        "id": "view-in-github",
        "colab_type": "text"
      },
      "source": [
        "<a href=\"https://colab.research.google.com/github/enzoampil/data-science-demos/blob/master/covid19/covid_eda.ipynb\" target=\"_parent\"><img src=\"https://colab.research.google.com/assets/colab-badge.svg\" alt=\"Open In Colab\"/></a>"
      ]
    },
    {
      "cell_type": "markdown",
      "metadata": {
        "id": "GPwRo0e4wabS",
        "colab_type": "text"
      },
      "source": [
        "# Authentication\n",
        "\n"
      ]
    },
    {
      "cell_type": "code",
      "metadata": {
        "id": "RTB_pg0Tuwb4",
        "colab_type": "code",
        "colab": {}
      },
      "source": [
        "from google.colab import auth\n",
        "auth.authenticate_user()\n",
        "\n",
        "import gspread\n",
        "from oauth2client.client import GoogleCredentials\n",
        "\n",
        "gc = gspread.authorize(GoogleCredentials.get_application_default())"
      ],
      "execution_count": 0,
      "outputs": []
    },
    {
      "cell_type": "markdown",
      "metadata": {
        "id": "wAUEINr5wfAt",
        "colab_type": "text"
      },
      "source": [
        "# Access the COVID-19 PH data\n",
        "\n",
        "Make sure you can access the spreadsheet from this [link](https://docs.google.com/spreadsheets/d/16g_PUxKYMC0XjeEKF6FPUBq2-pFgmTkHoj5lbVrGLhE/edit?fbclid=IwAR1qRr3hTxSiQ8KdymZiIQfPX4CpSA4VezpNKqXIPCIMQI1H3xMTGJ16lMs#gid=0)"
      ]
    },
    {
      "cell_type": "code",
      "metadata": {
        "id": "eRRVv27Rv54n",
        "colab_type": "code",
        "colab": {}
      },
      "source": [
        "import pandas as pd\n",
        "from matplotlib import pyplot as plt\n",
        "import numpy as np\n",
        "from datetime import datetime, timedelta"
      ],
      "execution_count": 0,
      "outputs": []
    },
    {
      "cell_type": "code",
      "metadata": {
        "id": "kypYbj3Pv9Ez",
        "colab_type": "code",
        "colab": {}
      },
      "source": [
        "def sheets_to_df(sheet_name):\n",
        "    sheet_lol = gc.open(sheet_name).sheet1.get_all_values()\n",
        "    return pd.DataFrame(sheet_lol[1:], columns=sheet_lol[0])"
      ],
      "execution_count": 0,
      "outputs": []
    },
    {
      "cell_type": "code",
      "metadata": {
        "id": "i7wojcddvgrR",
        "colab_type": "code",
        "colab": {}
      },
      "source": [
        "data = sheets_to_df('COVID-19 Philippines')"
      ],
      "execution_count": 0,
      "outputs": []
    },
    {
      "cell_type": "code",
      "metadata": {
        "id": "SpTIr0RAFkvL",
        "colab_type": "code",
        "outputId": "009ed3ab-c366-479a-8d2c-ddf1678af431",
        "colab": {
          "base_uri": "https://localhost:8080/",
          "height": 932
        }
      },
      "source": [
        "data"
      ],
      "execution_count": 0,
      "outputs": [
        {
          "output_type": "execute_result",
          "data": {
            "text/html": [
              "<div>\n",
              "<style scoped>\n",
              "    .dataframe tbody tr th:only-of-type {\n",
              "        vertical-align: middle;\n",
              "    }\n",
              "\n",
              "    .dataframe tbody tr th {\n",
              "        vertical-align: top;\n",
              "    }\n",
              "\n",
              "    .dataframe thead th {\n",
              "        text-align: right;\n",
              "    }\n",
              "</style>\n",
              "<table border=\"1\" class=\"dataframe\">\n",
              "  <thead>\n",
              "    <tr style=\"text-align: right;\">\n",
              "      <th></th>\n",
              "      <th>Case No.</th>\n",
              "      <th>Sex</th>\n",
              "      <th>Age</th>\n",
              "      <th>Nationality</th>\n",
              "      <th>History of Travel / Exposure</th>\n",
              "      <th>Travel History</th>\n",
              "      <th>Epi_Link</th>\n",
              "      <th>Date of Onset of Symptoms</th>\n",
              "      <th>Date of Admission</th>\n",
              "      <th>Date of Lab Confirmation</th>\n",
              "      <th>Date of Announcement to the Public</th>\n",
              "      <th>Admission / Consultation</th>\n",
              "      <th>Residence in the Philippines</th>\n",
              "      <th>Symptoms</th>\n",
              "      <th>Other disease</th>\n",
              "      <th>Status</th>\n",
              "      <th>Health Status</th>\n",
              "      <th>Date of Final Status (recovered/expired)</th>\n",
              "      <th>Final Diagnosis</th>\n",
              "      <th>Age Group</th>\n",
              "      <th>Location</th>\n",
              "      <th>Latitude</th>\n",
              "      <th>Longitude</th>\n",
              "      <th>Residence Lat</th>\n",
              "      <th>Residence Long</th>\n",
              "    </tr>\n",
              "  </thead>\n",
              "  <tbody>\n",
              "    <tr>\n",
              "      <th>0</th>\n",
              "      <td>PH001</td>\n",
              "      <td>F</td>\n",
              "      <td>38</td>\n",
              "      <td>Chinese</td>\n",
              "      <td>Yes (China); Wife of PH02</td>\n",
              "      <td>China</td>\n",
              "      <td>Wife of PH2</td>\n",
              "      <td>21-Jan-20</td>\n",
              "      <td>25-Jan-20</td>\n",
              "      <td>30-Jan-20</td>\n",
              "      <td>30-Jan-2020</td>\n",
              "      <td>San Lazaro Hospital</td>\n",
              "      <td>None</td>\n",
              "      <td></td>\n",
              "      <td></td>\n",
              "      <td>Recovered</td>\n",
              "      <td>Recovered</td>\n",
              "      <td>8-Feb-2020</td>\n",
              "      <td></td>\n",
              "      <td>31 - 40</td>\n",
              "      <td>San Lazaro Hospital</td>\n",
              "      <td>14.613754</td>\n",
              "      <td>120.980815</td>\n",
              "      <td>14.6138</td>\n",
              "      <td>120.981</td>\n",
              "    </tr>\n",
              "    <tr>\n",
              "      <th>1</th>\n",
              "      <td>PH002</td>\n",
              "      <td>M</td>\n",
              "      <td>44</td>\n",
              "      <td>Chinese</td>\n",
              "      <td>Yes (China); Husband of PH1</td>\n",
              "      <td>China</td>\n",
              "      <td>Husband of PH1</td>\n",
              "      <td>18-Jan-20</td>\n",
              "      <td>25-Jan-20</td>\n",
              "      <td>30-Jan-20</td>\n",
              "      <td>2-Feb-2020</td>\n",
              "      <td>San Lazaro Hospital</td>\n",
              "      <td>None</td>\n",
              "      <td>Fever, Cough, Sore throat</td>\n",
              "      <td></td>\n",
              "      <td>Expired</td>\n",
              "      <td>Died</td>\n",
              "      <td>1-Feb-2020</td>\n",
              "      <td>Severe Pneumonia</td>\n",
              "      <td>41 - 50</td>\n",
              "      <td>San Lazaro Hospital</td>\n",
              "      <td>14.613754</td>\n",
              "      <td>120.980815</td>\n",
              "      <td>14.6138</td>\n",
              "      <td>120.981</td>\n",
              "    </tr>\n",
              "    <tr>\n",
              "      <th>2</th>\n",
              "      <td>PH003</td>\n",
              "      <td>F</td>\n",
              "      <td>60</td>\n",
              "      <td>Chinese</td>\n",
              "      <td>Yes (China)</td>\n",
              "      <td>China</td>\n",
              "      <td></td>\n",
              "      <td>21-Jan-20</td>\n",
              "      <td>22-Jan-20</td>\n",
              "      <td>30-Jan-20</td>\n",
              "      <td>5-Feb-2020</td>\n",
              "      <td>San Lazaro Hospital</td>\n",
              "      <td>None</td>\n",
              "      <td></td>\n",
              "      <td></td>\n",
              "      <td>Recovered</td>\n",
              "      <td>Recovered</td>\n",
              "      <td>15-Mar-2020</td>\n",
              "      <td></td>\n",
              "      <td>51 - 60</td>\n",
              "      <td>San Lazaro Hospital</td>\n",
              "      <td>14.613754</td>\n",
              "      <td>120.980815</td>\n",
              "      <td>14.6138</td>\n",
              "      <td>120.981</td>\n",
              "    </tr>\n",
              "    <tr>\n",
              "      <th>3</th>\n",
              "      <td>PH004</td>\n",
              "      <td>M</td>\n",
              "      <td>48</td>\n",
              "      <td>Filipino</td>\n",
              "      <td>Yes (Japan)</td>\n",
              "      <td>Japan</td>\n",
              "      <td></td>\n",
              "      <td>03-Mar-20</td>\n",
              "      <td>06-Mar-20</td>\n",
              "      <td>05-Mar-20</td>\n",
              "      <td>6-Mar-2020</td>\n",
              "      <td>Research Institute for Tropical Medicine</td>\n",
              "      <td>Taguig</td>\n",
              "      <td>Fever</td>\n",
              "      <td></td>\n",
              "      <td>Confirmed</td>\n",
              "      <td>Mild</td>\n",
              "      <td></td>\n",
              "      <td></td>\n",
              "      <td>41 - 50</td>\n",
              "      <td>Taguig</td>\n",
              "      <td>14.409523</td>\n",
              "      <td>121.037122</td>\n",
              "      <td>14.5176</td>\n",
              "      <td>121.0509</td>\n",
              "    </tr>\n",
              "    <tr>\n",
              "      <th>4</th>\n",
              "      <td>PH005</td>\n",
              "      <td>M</td>\n",
              "      <td>62</td>\n",
              "      <td>Filipino</td>\n",
              "      <td>Husband of PH06</td>\n",
              "      <td>None</td>\n",
              "      <td>Husband of PH6</td>\n",
              "      <td>25-Feb-20</td>\n",
              "      <td>05-Mar-20</td>\n",
              "      <td>05-Mar-20</td>\n",
              "      <td>6-Mar-2020</td>\n",
              "      <td>Research Institute for Tropical Medicine</td>\n",
              "      <td>Rizal</td>\n",
              "      <td>Cough</td>\n",
              "      <td>Hypertension, Diabetes, Acute Kidney Injury</td>\n",
              "      <td>Expired</td>\n",
              "      <td>Died</td>\n",
              "      <td>12-Mar-2020</td>\n",
              "      <td>Acute respiratory distress syndrome due to sev...</td>\n",
              "      <td>61 - 70</td>\n",
              "      <td>Rizal</td>\n",
              "      <td>14.409523</td>\n",
              "      <td>121.037122</td>\n",
              "      <td>14.6037</td>\n",
              "      <td>121.3084</td>\n",
              "    </tr>\n",
              "    <tr>\n",
              "      <th>...</th>\n",
              "      <td>...</td>\n",
              "      <td>...</td>\n",
              "      <td>...</td>\n",
              "      <td>...</td>\n",
              "      <td>...</td>\n",
              "      <td>...</td>\n",
              "      <td>...</td>\n",
              "      <td>...</td>\n",
              "      <td>...</td>\n",
              "      <td>...</td>\n",
              "      <td>...</td>\n",
              "      <td>...</td>\n",
              "      <td>...</td>\n",
              "      <td>...</td>\n",
              "      <td>...</td>\n",
              "      <td>...</td>\n",
              "      <td>...</td>\n",
              "      <td>...</td>\n",
              "      <td>...</td>\n",
              "      <td>...</td>\n",
              "      <td>...</td>\n",
              "      <td>...</td>\n",
              "      <td>...</td>\n",
              "      <td>...</td>\n",
              "      <td>...</td>\n",
              "    </tr>\n",
              "    <tr>\n",
              "      <th>302</th>\n",
              "      <td>PH303</td>\n",
              "      <td>M</td>\n",
              "      <td>24</td>\n",
              "      <td>For validation</td>\n",
              "      <td>For validation</td>\n",
              "      <td>For validation</td>\n",
              "      <td></td>\n",
              "      <td></td>\n",
              "      <td></td>\n",
              "      <td></td>\n",
              "      <td>21-Mar-20</td>\n",
              "      <td>Bataan General Hospital And Medical Center</td>\n",
              "      <td>Bataan</td>\n",
              "      <td></td>\n",
              "      <td></td>\n",
              "      <td>Confirmed</td>\n",
              "      <td>For validation</td>\n",
              "      <td></td>\n",
              "      <td></td>\n",
              "      <td>21 - 30</td>\n",
              "      <td>Bataan</td>\n",
              "      <td>14.678271</td>\n",
              "      <td>120.530364</td>\n",
              "      <td>14.6417</td>\n",
              "      <td>120.4818</td>\n",
              "    </tr>\n",
              "    <tr>\n",
              "      <th>303</th>\n",
              "      <td>PH304</td>\n",
              "      <td>M</td>\n",
              "      <td>89</td>\n",
              "      <td>For validation</td>\n",
              "      <td>For validation</td>\n",
              "      <td>For validation</td>\n",
              "      <td></td>\n",
              "      <td></td>\n",
              "      <td></td>\n",
              "      <td></td>\n",
              "      <td>21-Mar-20</td>\n",
              "      <td>Jose B. Lingad Memorial Regional Hospital</td>\n",
              "      <td>Bulacan</td>\n",
              "      <td></td>\n",
              "      <td></td>\n",
              "      <td>Confirmed</td>\n",
              "      <td>For validation</td>\n",
              "      <td></td>\n",
              "      <td></td>\n",
              "      <td>81 - 90</td>\n",
              "      <td>Bulacan</td>\n",
              "      <td>15.03451</td>\n",
              "      <td>120.684733</td>\n",
              "      <td>14.9807559</td>\n",
              "      <td>120.7243164</td>\n",
              "    </tr>\n",
              "    <tr>\n",
              "      <th>304</th>\n",
              "      <td>PH305</td>\n",
              "      <td>F</td>\n",
              "      <td>63</td>\n",
              "      <td>For validation</td>\n",
              "      <td>For validation</td>\n",
              "      <td>For validation</td>\n",
              "      <td></td>\n",
              "      <td></td>\n",
              "      <td></td>\n",
              "      <td></td>\n",
              "      <td>21-Mar-20</td>\n",
              "      <td>Manila Doctors Hospital</td>\n",
              "      <td>For validation</td>\n",
              "      <td></td>\n",
              "      <td></td>\n",
              "      <td>Confirmed</td>\n",
              "      <td>For validation</td>\n",
              "      <td></td>\n",
              "      <td></td>\n",
              "      <td>61 - 70</td>\n",
              "      <td>Manila Doctors Hospital</td>\n",
              "      <td>14.582028</td>\n",
              "      <td>120.982657</td>\n",
              "      <td>14.582028</td>\n",
              "      <td>120.982657</td>\n",
              "    </tr>\n",
              "    <tr>\n",
              "      <th>305</th>\n",
              "      <td>PH306</td>\n",
              "      <td>F</td>\n",
              "      <td>67</td>\n",
              "      <td>For validation</td>\n",
              "      <td>For validation</td>\n",
              "      <td>For validation</td>\n",
              "      <td></td>\n",
              "      <td></td>\n",
              "      <td></td>\n",
              "      <td></td>\n",
              "      <td>21-Mar-20</td>\n",
              "      <td>Manila Doctors Hospital</td>\n",
              "      <td>For validation</td>\n",
              "      <td></td>\n",
              "      <td></td>\n",
              "      <td>Confirmed</td>\n",
              "      <td>For validation</td>\n",
              "      <td></td>\n",
              "      <td></td>\n",
              "      <td>61 - 70</td>\n",
              "      <td>Manila Doctors Hospital</td>\n",
              "      <td>14.582028</td>\n",
              "      <td>120.982657</td>\n",
              "      <td>14.582028</td>\n",
              "      <td>120.982657</td>\n",
              "    </tr>\n",
              "    <tr>\n",
              "      <th>306</th>\n",
              "      <td>PH307</td>\n",
              "      <td>F</td>\n",
              "      <td>62</td>\n",
              "      <td>For validation</td>\n",
              "      <td>For validation</td>\n",
              "      <td>For validation</td>\n",
              "      <td></td>\n",
              "      <td></td>\n",
              "      <td></td>\n",
              "      <td></td>\n",
              "      <td>21-Mar-20</td>\n",
              "      <td>Rizal Medical Center</td>\n",
              "      <td>For validation</td>\n",
              "      <td></td>\n",
              "      <td></td>\n",
              "      <td>Confirmed</td>\n",
              "      <td>For validation</td>\n",
              "      <td></td>\n",
              "      <td></td>\n",
              "      <td>61 - 70</td>\n",
              "      <td>Rizal Medical Center</td>\n",
              "      <td>14.564216</td>\n",
              "      <td>121.065879</td>\n",
              "      <td>14.564216</td>\n",
              "      <td>121.065879</td>\n",
              "    </tr>\n",
              "  </tbody>\n",
              "</table>\n",
              "<p>307 rows × 25 columns</p>\n",
              "</div>"
            ],
            "text/plain": [
              "    Case No. Sex Age  ...   Longitude Residence Lat Residence Long\n",
              "0      PH001   F  38  ...  120.980815       14.6138        120.981\n",
              "1      PH002   M  44  ...  120.980815       14.6138        120.981\n",
              "2      PH003   F  60  ...  120.980815       14.6138        120.981\n",
              "3      PH004   M  48  ...  121.037122       14.5176       121.0509\n",
              "4      PH005   M  62  ...  121.037122       14.6037       121.3084\n",
              "..       ...  ..  ..  ...         ...           ...            ...\n",
              "302    PH303   M  24  ...  120.530364       14.6417       120.4818\n",
              "303    PH304   M  89  ...  120.684733    14.9807559    120.7243164\n",
              "304    PH305   F  63  ...  120.982657     14.582028     120.982657\n",
              "305    PH306   F  67  ...  120.982657     14.582028     120.982657\n",
              "306    PH307   F  62  ...  121.065879     14.564216     121.065879\n",
              "\n",
              "[307 rows x 25 columns]"
            ]
          },
          "metadata": {
            "tags": []
          },
          "execution_count": 333
        }
      ]
    },
    {
      "cell_type": "markdown",
      "metadata": {
        "id": "5fBub-w-2UjD",
        "colab_type": "text"
      },
      "source": [
        "Format the data"
      ]
    },
    {
      "cell_type": "code",
      "metadata": {
        "id": "dWpxS9tiylyq",
        "colab_type": "code",
        "outputId": "5be6d783-783f-4794-cd43-0a800090993d",
        "colab": {
          "base_uri": "https://localhost:8080/",
          "height": 374
        }
      },
      "source": [
        "data['Age'] = data['Age'].astype(int)\n",
        "data['Nationality'] = data['Nationality'].str.lower()\n",
        "data['Travel History'] = data['Travel History'].str.lower()\n",
        "data['Age Group'] = data['Age Group'].str.strip()\n",
        "data['Epi_Link'] = data['Epi_Link'].str.lower()\n",
        "data['Residence in the Philippines'] = data['Residence in the Philippines'].str\\\n",
        ".lower().str.replace('city', '').str.replace('ñ', 'n')\\\n",
        ".apply(lambda x: x.split(',')[1] if ',' in x else x).str.strip()\n",
        "\n",
        "val_values = ['For validation', 'for validation', 'for validation', 'For Validation'] #, \n",
        "none_values = ['none', '']\n",
        "\n",
        "date_cols = ['Date of Onset of Symptoms\tDate of Admission',\t'Date of Lab Confirmation', 'Date of Announcement to the Public', 'Date of Final Status (recovered/expired)']\n",
        "object_cols = data.dtypes[(data.dtypes == 'object').to_numpy().nonzero()[0]].index.values.tolist()\n",
        "\n",
        "for col in object_cols:\n",
        "    if col in date_cols:\n",
        "        continue\n",
        "    print(col)\n",
        "    data[col] = data[col].str.lower()\n",
        "\n",
        "# Map 'to be validated' and 'none' values to the same name\n",
        "data = data.replace(val_values, 'for_validation').replace(none_values, 'none')\n",
        "\n",
        "# Add dummy variables for health status\n",
        "data = pd.concat([data, pd.get_dummies(data['Health Status'])], axis=1)"
      ],
      "execution_count": 0,
      "outputs": [
        {
          "output_type": "stream",
          "text": [
            "Case No.\n",
            "Sex\n",
            "Nationality\n",
            "History of Travel / Exposure\n",
            "Travel History\n",
            "Epi_Link\n",
            "Date of Onset of Symptoms\n",
            "Date of Admission\n",
            "Admission / Consultation\n",
            "Residence in the Philippines\n",
            "Symptoms\n",
            "Other disease\n",
            "Status\n",
            "Health Status\n",
            "Final Diagnosis\n",
            "Age Group\n",
            "Location\n",
            "Latitude\n",
            "Longitude\n",
            "Residence Lat\n",
            "Residence Long\n"
          ],
          "name": "stdout"
        }
      ]
    },
    {
      "cell_type": "code",
      "metadata": {
        "id": "LtqYJCYBwW2Z",
        "colab_type": "code",
        "outputId": "405df118-7c6c-46c4-b42d-8c20b6e21d01",
        "colab": {
          "base_uri": "https://localhost:8080/",
          "height": 513
        }
      },
      "source": [
        "data.head()"
      ],
      "execution_count": 0,
      "outputs": [
        {
          "output_type": "execute_result",
          "data": {
            "text/html": [
              "<div>\n",
              "<style scoped>\n",
              "    .dataframe tbody tr th:only-of-type {\n",
              "        vertical-align: middle;\n",
              "    }\n",
              "\n",
              "    .dataframe tbody tr th {\n",
              "        vertical-align: top;\n",
              "    }\n",
              "\n",
              "    .dataframe thead th {\n",
              "        text-align: right;\n",
              "    }\n",
              "</style>\n",
              "<table border=\"1\" class=\"dataframe\">\n",
              "  <thead>\n",
              "    <tr style=\"text-align: right;\">\n",
              "      <th></th>\n",
              "      <th>Case No.</th>\n",
              "      <th>Sex</th>\n",
              "      <th>Age</th>\n",
              "      <th>Nationality</th>\n",
              "      <th>History of Travel / Exposure</th>\n",
              "      <th>Travel History</th>\n",
              "      <th>Epi_Link</th>\n",
              "      <th>Date of Onset of Symptoms</th>\n",
              "      <th>Date of Admission</th>\n",
              "      <th>Date of Lab Confirmation</th>\n",
              "      <th>Date of Announcement to the Public</th>\n",
              "      <th>Admission / Consultation</th>\n",
              "      <th>Residence in the Philippines</th>\n",
              "      <th>Symptoms</th>\n",
              "      <th>Other disease</th>\n",
              "      <th>Status</th>\n",
              "      <th>Health Status</th>\n",
              "      <th>Date of Final Status (recovered/expired)</th>\n",
              "      <th>Final Diagnosis</th>\n",
              "      <th>Age Group</th>\n",
              "      <th>Location</th>\n",
              "      <th>Latitude</th>\n",
              "      <th>Longitude</th>\n",
              "      <th>Residence Lat</th>\n",
              "      <th>Residence Long</th>\n",
              "    </tr>\n",
              "  </thead>\n",
              "  <tbody>\n",
              "    <tr>\n",
              "      <th>0</th>\n",
              "      <td>ph001</td>\n",
              "      <td>f</td>\n",
              "      <td>38</td>\n",
              "      <td>chinese</td>\n",
              "      <td>yes (china); wife of ph02</td>\n",
              "      <td>china</td>\n",
              "      <td>wife of ph2</td>\n",
              "      <td>21-jan-20</td>\n",
              "      <td>25-jan-20</td>\n",
              "      <td>30-Jan-20</td>\n",
              "      <td>30-Jan-2020</td>\n",
              "      <td>san lazaro hospital</td>\n",
              "      <td>none</td>\n",
              "      <td>none</td>\n",
              "      <td>none</td>\n",
              "      <td>recovered</td>\n",
              "      <td>recovered</td>\n",
              "      <td>8-feb-2020</td>\n",
              "      <td>none</td>\n",
              "      <td>31 - 40</td>\n",
              "      <td>san lazaro hospital</td>\n",
              "      <td>14.613754</td>\n",
              "      <td>120.980815</td>\n",
              "      <td>14.6138</td>\n",
              "      <td>120.981</td>\n",
              "    </tr>\n",
              "    <tr>\n",
              "      <th>1</th>\n",
              "      <td>ph002</td>\n",
              "      <td>m</td>\n",
              "      <td>44</td>\n",
              "      <td>chinese</td>\n",
              "      <td>yes (china); husband of ph1</td>\n",
              "      <td>china</td>\n",
              "      <td>husband of ph1</td>\n",
              "      <td>18-jan-20</td>\n",
              "      <td>25-jan-20</td>\n",
              "      <td>30-Jan-20</td>\n",
              "      <td>2-Feb-2020</td>\n",
              "      <td>san lazaro hospital</td>\n",
              "      <td>none</td>\n",
              "      <td>fever, cough, sore throat</td>\n",
              "      <td>none</td>\n",
              "      <td>expired</td>\n",
              "      <td>died</td>\n",
              "      <td>1-feb-2020</td>\n",
              "      <td>severe pneumonia</td>\n",
              "      <td>41 - 50</td>\n",
              "      <td>san lazaro hospital</td>\n",
              "      <td>14.613754</td>\n",
              "      <td>120.980815</td>\n",
              "      <td>14.6138</td>\n",
              "      <td>120.981</td>\n",
              "    </tr>\n",
              "    <tr>\n",
              "      <th>2</th>\n",
              "      <td>ph003</td>\n",
              "      <td>f</td>\n",
              "      <td>60</td>\n",
              "      <td>chinese</td>\n",
              "      <td>yes (china)</td>\n",
              "      <td>china</td>\n",
              "      <td>none</td>\n",
              "      <td>21-jan-20</td>\n",
              "      <td>22-jan-20</td>\n",
              "      <td>30-Jan-20</td>\n",
              "      <td>5-Feb-2020</td>\n",
              "      <td>san lazaro hospital</td>\n",
              "      <td>none</td>\n",
              "      <td>none</td>\n",
              "      <td>none</td>\n",
              "      <td>recovered</td>\n",
              "      <td>recovered</td>\n",
              "      <td>15-mar-2020</td>\n",
              "      <td>none</td>\n",
              "      <td>51 - 60</td>\n",
              "      <td>san lazaro hospital</td>\n",
              "      <td>14.613754</td>\n",
              "      <td>120.980815</td>\n",
              "      <td>14.6138</td>\n",
              "      <td>120.981</td>\n",
              "    </tr>\n",
              "    <tr>\n",
              "      <th>3</th>\n",
              "      <td>ph004</td>\n",
              "      <td>m</td>\n",
              "      <td>48</td>\n",
              "      <td>filipino</td>\n",
              "      <td>yes (japan)</td>\n",
              "      <td>japan</td>\n",
              "      <td>none</td>\n",
              "      <td>03-mar-20</td>\n",
              "      <td>06-mar-20</td>\n",
              "      <td>05-Mar-20</td>\n",
              "      <td>6-Mar-2020</td>\n",
              "      <td>research institute for tropical medicine</td>\n",
              "      <td>taguig</td>\n",
              "      <td>fever</td>\n",
              "      <td>none</td>\n",
              "      <td>confirmed</td>\n",
              "      <td>mild</td>\n",
              "      <td>none</td>\n",
              "      <td>none</td>\n",
              "      <td>41 - 50</td>\n",
              "      <td>taguig</td>\n",
              "      <td>14.409523</td>\n",
              "      <td>121.037122</td>\n",
              "      <td>14.5176</td>\n",
              "      <td>121.0509</td>\n",
              "    </tr>\n",
              "    <tr>\n",
              "      <th>4</th>\n",
              "      <td>ph005</td>\n",
              "      <td>m</td>\n",
              "      <td>62</td>\n",
              "      <td>filipino</td>\n",
              "      <td>husband of ph06</td>\n",
              "      <td>none</td>\n",
              "      <td>husband of ph6</td>\n",
              "      <td>25-feb-20</td>\n",
              "      <td>05-mar-20</td>\n",
              "      <td>05-Mar-20</td>\n",
              "      <td>6-Mar-2020</td>\n",
              "      <td>research institute for tropical medicine</td>\n",
              "      <td>rizal</td>\n",
              "      <td>cough</td>\n",
              "      <td>hypertension, diabetes, acute kidney injury</td>\n",
              "      <td>expired</td>\n",
              "      <td>died</td>\n",
              "      <td>12-mar-2020</td>\n",
              "      <td>acute respiratory distress syndrome due to sev...</td>\n",
              "      <td>61 - 70</td>\n",
              "      <td>rizal</td>\n",
              "      <td>14.409523</td>\n",
              "      <td>121.037122</td>\n",
              "      <td>14.6037</td>\n",
              "      <td>121.3084</td>\n",
              "    </tr>\n",
              "  </tbody>\n",
              "</table>\n",
              "</div>"
            ],
            "text/plain": [
              "  Case No. Sex  Age  ...   Longitude Residence Lat Residence Long\n",
              "0    ph001   f   38  ...  120.980815       14.6138        120.981\n",
              "1    ph002   m   44  ...  120.980815       14.6138        120.981\n",
              "2    ph003   f   60  ...  120.980815       14.6138        120.981\n",
              "3    ph004   m   48  ...  121.037122       14.5176       121.0509\n",
              "4    ph005   m   62  ...  121.037122       14.6037       121.3084\n",
              "\n",
              "[5 rows x 25 columns]"
            ]
          },
          "metadata": {
            "tags": []
          },
          "execution_count": 272
        }
      ]
    },
    {
      "cell_type": "code",
      "metadata": {
        "id": "ZfhOEzzwyNcq",
        "colab_type": "code",
        "outputId": "3545e3cc-3b05-415d-b906-4a4b80a34756",
        "colab": {
          "base_uri": "https://localhost:8080/",
          "height": 170
        }
      },
      "source": [
        "data.columns"
      ],
      "execution_count": 0,
      "outputs": [
        {
          "output_type": "execute_result",
          "data": {
            "text/plain": [
              "Index(['Case No.', 'Sex', 'Age', 'Nationality', 'History of Travel / Exposure',\n",
              "       'Travel History', 'Epi_Link', 'Date of Onset of Symptoms',\n",
              "       'Date of Admission', 'Date of Lab Confirmation',\n",
              "       'Date of Announcement to the Public', 'Admission / Consultation',\n",
              "       'Residence in the Philippines', 'Symptoms', 'Other disease', 'Status',\n",
              "       'Health Status', 'Date of Final Status (recovered/expired)',\n",
              "       'Final Diagnosis', 'Age Group', 'Location', 'Latitude', 'Longitude',\n",
              "       'Residence Lat', 'Residence Long'],\n",
              "      dtype='object')"
            ]
          },
          "metadata": {
            "tags": []
          },
          "execution_count": 273
        }
      ]
    },
    {
      "cell_type": "markdown",
      "metadata": {
        "id": "-LroQPPzxDiG",
        "colab_type": "text"
      },
      "source": [
        "# Who are the confirmed cases?"
      ]
    },
    {
      "cell_type": "markdown",
      "metadata": {
        "id": "zQHdJXBSxlqW",
        "colab_type": "text"
      },
      "source": [
        "## Sex\n",
        "\n",
        "Mostly males (66%). Could males be getting worse symptoms or are they just catching the disease more? Potentially because of [hygiene](https://www.nst.com.my/world/world/2020/03/572170/men-worse-bathroom-hygiene-prevents-covid-19)?"
      ]
    },
    {
      "cell_type": "code",
      "metadata": {
        "id": "yy5IWmX1xdfq",
        "colab_type": "code",
        "outputId": "4ba051c1-cb0d-42d8-8204-ad7c4b5a2208",
        "colab": {
          "base_uri": "https://localhost:8080/",
          "height": 68
        }
      },
      "source": [
        "data['Sex'].value_counts()"
      ],
      "execution_count": 0,
      "outputs": [
        {
          "output_type": "execute_result",
          "data": {
            "text/plain": [
              "m    152\n",
              "f     78\n",
              "Name: Sex, dtype: int64"
            ]
          },
          "metadata": {
            "tags": []
          },
          "execution_count": 274
        }
      ]
    },
    {
      "cell_type": "code",
      "metadata": {
        "id": "2UoF61KbxwIJ",
        "colab_type": "code",
        "outputId": "ed6b797a-a681-40c7-95a8-f545e5a115e1",
        "colab": {
          "base_uri": "https://localhost:8080/",
          "height": 298
        }
      },
      "source": [
        "data['Sex'].value_counts().sort_values().plot.barh()\n",
        "plt.title('Count of Male vs Female')"
      ],
      "execution_count": 0,
      "outputs": [
        {
          "output_type": "execute_result",
          "data": {
            "text/plain": [
              "Text(0.5, 1.0, 'Count of Male vs Female')"
            ]
          },
          "metadata": {
            "tags": []
          },
          "execution_count": 275
        },
        {
          "output_type": "display_data",
          "data": {
            "image/png": "[encoded data removed]",
            "text/plain": [
              "<Figure size 432x288 with 1 Axes>"
            ]
          },
          "metadata": {
            "tags": []
          }
        }
      ]
    },
    {
      "cell_type": "markdown",
      "metadata": {
        "id": "e90bG804yQsO",
        "colab_type": "text"
      },
      "source": [
        "## Age\n",
        "\n",
        "Average age: 51\n",
        "\n",
        "The distribution is pretty even (equal number of people > and < 50 yrs old).\n",
        "\n",
        "This is a contrast to the country's actual population distribution, where 89% of the population is < 55 yrs old ([source](https://www.indexmundi.com/philippines/age_structure.html)).\n",
        "\n",
        "The distribution indicates that either it's mainly older people that are getting tested (makes sense if they're more likely to have symptoms), or old people are indeed more susceptible to catching the disease.\n"
      ]
    },
    {
      "cell_type": "code",
      "metadata": {
        "id": "U8MQzhLmyR86",
        "colab_type": "code",
        "outputId": "5a890d87-cac9-4b05-a742-4f1efca59c1f",
        "colab": {
          "base_uri": "https://localhost:8080/",
          "height": 170
        }
      },
      "source": [
        "data['Age'].describe()"
      ],
      "execution_count": 0,
      "outputs": [
        {
          "output_type": "execute_result",
          "data": {
            "text/plain": [
              "count    230.000000\n",
              "mean      50.539130\n",
              "std       16.737525\n",
              "min       13.000000\n",
              "25%       35.250000\n",
              "50%       50.500000\n",
              "75%       65.000000\n",
              "max       88.000000\n",
              "Name: Age, dtype: float64"
            ]
          },
          "metadata": {
            "tags": []
          },
          "execution_count": 276
        }
      ]
    },
    {
      "cell_type": "code",
      "metadata": {
        "id": "jsdFobl_ycYG",
        "colab_type": "code",
        "outputId": "fc073c69-0a03-4d03-ed2c-6bbf9b784cda",
        "colab": {
          "base_uri": "https://localhost:8080/",
          "height": 298
        }
      },
      "source": [
        "data['Age'].hist()\n",
        "plt.title('Age Distribution')"
      ],
      "execution_count": 0,
      "outputs": [
        {
          "output_type": "execute_result",
          "data": {
            "text/plain": [
              "Text(0.5, 1.0, 'Age Distribution')"
            ]
          },
          "metadata": {
            "tags": []
          },
          "execution_count": 277
        },
        {
          "output_type": "display_data",
          "data": {
            "image/png": "[encoded data removed]",
            "text/plain": [
              "<Figure size 432x288 with 1 Axes>"
            ]
          },
          "metadata": {
            "tags": []
          }
        }
      ]
    },
    {
      "cell_type": "code",
      "metadata": {
        "id": "SP74Vuyu5ly9",
        "colab_type": "code",
        "outputId": "dd6c2e13-c757-4363-e990-25332c9752c1",
        "colab": {
          "base_uri": "https://localhost:8080/",
          "height": 324
        }
      },
      "source": [
        "data['Age Group'].value_counts().sort_index().plot.bar()\n",
        "plt.title('Age Distribution')"
      ],
      "execution_count": 0,
      "outputs": [
        {
          "output_type": "execute_result",
          "data": {
            "text/plain": [
              "Text(0.5, 1.0, 'Age Distribution')"
            ]
          },
          "metadata": {
            "tags": []
          },
          "execution_count": 278
        },
        {
          "output_type": "display_data",
          "data": {
            "image/png": "[encoded data removed]",
            "text/plain": [
              "<Figure size 432x288 with 1 Axes>"
            ]
          },
          "metadata": {
            "tags": []
          }
        }
      ]
    },
    {
      "cell_type": "markdown",
      "metadata": {
        "id": "OjLRklZL9XPP",
        "colab_type": "text"
      },
      "source": [
        "## Locations"
      ]
    },
    {
      "cell_type": "code",
      "metadata": {
        "id": "h9XsIFJ-9ajP",
        "colab_type": "code",
        "outputId": "7ea6f2ba-9ab3-4de3-dc84-982bc7951bb8",
        "colab": {
          "base_uri": "https://localhost:8080/",
          "height": 544
        }
      },
      "source": [
        "data['Residence in the Philippines'].value_counts()"
      ],
      "execution_count": 0,
      "outputs": [
        {
          "output_type": "execute_result",
          "data": {
            "text/plain": [
              "for_validation     54\n",
              "quezon             34\n",
              "san juan           23\n",
              "makati             18\n",
              "pasig              13\n",
              "manila             12\n",
              "marikina            7\n",
              "mandaluyong         7\n",
              "rizal               7\n",
              "paranaque           6\n",
              "las pinas           6\n",
              "bulacan             5\n",
              "cavite              5\n",
              "muntinlupa          4\n",
              "taguig              4\n",
              "none                3\n",
              "batangas            3\n",
              "caloocan            3\n",
              "pampanga            2\n",
              "lanao del sur       2\n",
              "pasay               2\n",
              "negros oriental     2\n",
              "davao de oro        1\n",
              "tarlac              1\n",
              "camarines sur       1\n",
              "antipolo            1\n",
              "cotabato            1\n",
              "laguna              1\n",
              "bataan              1\n",
              "lucena              1\n",
              "Name: Residence in the Philippines, dtype: int64"
            ]
          },
          "metadata": {
            "tags": []
          },
          "execution_count": 231
        }
      ]
    },
    {
      "cell_type": "code",
      "metadata": {
        "id": "ImZurpkEAyi0",
        "colab_type": "code",
        "outputId": "14a7688a-935e-4815-83ef-5a9e1f5f3547",
        "colab": {
          "base_uri": "https://localhost:8080/",
          "height": 461
        }
      },
      "source": [
        "data['Residence in the Philippines'].value_counts().sort_values().plot.barh(figsize=(7,7))\n",
        "plt.title('Confirmed cases per city / province')"
      ],
      "execution_count": 0,
      "outputs": [
        {
          "output_type": "execute_result",
          "data": {
            "text/plain": [
              "Text(0.5, 1.0, 'Confirmed cases per city / province')"
            ]
          },
          "metadata": {
            "tags": []
          },
          "execution_count": 232
        },
        {
          "output_type": "display_data",
          "data": {
            "image/png": "[encoded data removed]",
            "text/plain": [
              "<Figure size 504x504 with 1 Axes>"
            ]
          },
          "metadata": {
            "tags": []
          }
        }
      ]
    },
    {
      "cell_type": "markdown",
      "metadata": {
        "id": "vdxhZpnIyFHH",
        "colab_type": "text"
      },
      "source": [
        "## Nationality\n",
        "\n",
        "From the validated cases, most are filipino (196 cases) (96%), and the rest are chinese (3 cases), thai (2 cases), taiwanese (1 case), and american (1 case)"
      ]
    },
    {
      "cell_type": "code",
      "metadata": {
        "id": "_jpCO5qOyFZK",
        "colab_type": "code",
        "outputId": "40c7e9a1-7a43-44da-feb4-50b32ca74d7f",
        "colab": {
          "base_uri": "https://localhost:8080/",
          "height": 136
        }
      },
      "source": [
        "data['Nationality'].value_counts()"
      ],
      "execution_count": 0,
      "outputs": [
        {
          "output_type": "execute_result",
          "data": {
            "text/plain": [
              "filipino          185\n",
              "for_validation     38\n",
              "chinese             3\n",
              "thai                2\n",
              "american            1\n",
              "taiwanese           1\n",
              "Name: Nationality, dtype: int64"
            ]
          },
          "metadata": {
            "tags": []
          },
          "execution_count": 233
        }
      ]
    },
    {
      "cell_type": "code",
      "metadata": {
        "id": "MW1ux89oyFeu",
        "colab_type": "code",
        "outputId": "f2be6cce-a0fd-4ec5-dc0b-e102c30f66bd",
        "colab": {
          "base_uri": "https://localhost:8080/",
          "height": 282
        }
      },
      "source": [
        "data['Nationality'].value_counts().sort_values().plot.barh()"
      ],
      "execution_count": 0,
      "outputs": [
        {
          "output_type": "execute_result",
          "data": {
            "text/plain": [
              "<matplotlib.axes._subplots.AxesSubplot at 0x7fc610dc46a0>"
            ]
          },
          "metadata": {
            "tags": []
          },
          "execution_count": 234
        },
        {
          "output_type": "display_data",
          "data": {
            "image/png": "[encoded data removed]",
            "text/plain": [
              "<Figure size 432x288 with 1 Axes>"
            ]
          },
          "metadata": {
            "tags": []
          }
        }
      ]
    },
    {
      "cell_type": "markdown",
      "metadata": {
        "id": "HWWRF5TK6t7I",
        "colab_type": "text"
      },
      "source": [
        "# How did they get the disease?"
      ]
    },
    {
      "cell_type": "markdown",
      "metadata": {
        "id": "H4wsIfjN3Zvb",
        "colab_type": "text"
      },
      "source": [
        "## Travel history\n",
        "\n",
        "72% of confirmed cases (w/ validation) did not have any travel history"
      ]
    },
    {
      "cell_type": "code",
      "metadata": {
        "id": "MtCabCtuHo8-",
        "colab_type": "code",
        "outputId": "add42c4c-af00-4485-edc1-3fcafb715f3d",
        "colab": {
          "base_uri": "https://localhost:8080/",
          "height": 221
        }
      },
      "source": [
        "data['Travel History'] == 'none'"
      ],
      "execution_count": 0,
      "outputs": [
        {
          "output_type": "execute_result",
          "data": {
            "text/plain": [
              "0      False\n",
              "1      False\n",
              "2      False\n",
              "3      False\n",
              "4       True\n",
              "       ...  \n",
              "225    False\n",
              "226    False\n",
              "227    False\n",
              "228    False\n",
              "229    False\n",
              "Name: Travel History, Length: 230, dtype: bool"
            ]
          },
          "metadata": {
            "tags": []
          },
          "execution_count": 235
        }
      ]
    },
    {
      "cell_type": "code",
      "metadata": {
        "id": "3RQFkYNS5D_K",
        "colab_type": "code",
        "colab": {}
      },
      "source": [
        "data['Has Travel History'] = ~(data['Travel History'].dropna() == 'none')"
      ],
      "execution_count": 0,
      "outputs": []
    },
    {
      "cell_type": "code",
      "metadata": {
        "id": "p53NjiBD39eW",
        "colab_type": "code",
        "outputId": "a1a19f20-88b3-4550-d40f-0446d3b5cbe6",
        "colab": {
          "base_uri": "https://localhost:8080/",
          "height": 68
        }
      },
      "source": [
        "data['Has Travel History'][data['Travel History'] != 'for_validation'].value_counts()"
      ],
      "execution_count": 0,
      "outputs": [
        {
          "output_type": "execute_result",
          "data": {
            "text/plain": [
              "False    114\n",
              "True      45\n",
              "Name: Has Travel History, dtype: int64"
            ]
          },
          "metadata": {
            "tags": []
          },
          "execution_count": 239
        }
      ]
    },
    {
      "cell_type": "code",
      "metadata": {
        "id": "EndIVbGJ4F9g",
        "colab_type": "code",
        "outputId": "2576f7a8-1e42-4c53-a193-2fe2c0ee2380",
        "colab": {
          "base_uri": "https://localhost:8080/",
          "height": 298
        }
      },
      "source": [
        "data['Has Travel History'][data['Travel History'] != 'for_validation'].value_counts().sort_values().plot.barh()\n",
        "plt.title('Did the patient have travel history?')"
      ],
      "execution_count": 0,
      "outputs": [
        {
          "output_type": "execute_result",
          "data": {
            "text/plain": [
              "Text(0.5, 1.0, 'Did the patient have travel history?')"
            ]
          },
          "metadata": {
            "tags": []
          },
          "execution_count": 241
        },
        {
          "output_type": "display_data",
          "data": {
            "image/png": "[encoded data removed]",
            "text/plain": [
              "<Figure size 432x288 with 1 Axes>"
            ]
          },
          "metadata": {
            "tags": []
          }
        }
      ]
    },
    {
      "cell_type": "markdown",
      "metadata": {
        "id": "Dn_ZV_Ix7E8Y",
        "colab_type": "text"
      },
      "source": [
        "## Patient links\n",
        "\n",
        "26% of the confirmed cases have a link to another confirmed case."
      ]
    },
    {
      "cell_type": "code",
      "metadata": {
        "id": "15cTrPvi7b52",
        "colab_type": "code",
        "colab": {}
      },
      "source": [
        "data['Has Epi_Link'] = ~(data['Epi_Link'] == 'none')"
      ],
      "execution_count": 0,
      "outputs": []
    },
    {
      "cell_type": "code",
      "metadata": {
        "id": "Cjw6mIaF8fmg",
        "colab_type": "code",
        "outputId": "cf0c77af-f953-40bc-c4fb-5a105636eccb",
        "colab": {
          "base_uri": "https://localhost:8080/",
          "height": 68
        }
      },
      "source": [
        "data['Has Epi_Link'].value_counts()"
      ],
      "execution_count": 0,
      "outputs": [
        {
          "output_type": "execute_result",
          "data": {
            "text/plain": [
              "False    170\n",
              "True      60\n",
              "Name: Has Epi_Link, dtype: int64"
            ]
          },
          "metadata": {
            "tags": []
          },
          "execution_count": 244
        }
      ]
    },
    {
      "cell_type": "code",
      "metadata": {
        "id": "-OoenXfS8T00",
        "colab_type": "code",
        "outputId": "b80e4e0d-53fb-4eb0-b7e9-7956d73f418d",
        "colab": {
          "base_uri": "https://localhost:8080/",
          "height": 298
        }
      },
      "source": [
        "data['Has Epi_Link'].value_counts().sort_values().plot.barh()\n",
        "plt.title(\"Does the patient have a link to a confirmed case?\")"
      ],
      "execution_count": 0,
      "outputs": [
        {
          "output_type": "execute_result",
          "data": {
            "text/plain": [
              "Text(0.5, 1.0, 'Does the patient have a link to a confirmed case?')"
            ]
          },
          "metadata": {
            "tags": []
          },
          "execution_count": 245
        },
        {
          "output_type": "display_data",
          "data": {
            "image/png": "[encoded data removed]",
            "text/plain": [
              "<Figure size 432x288 with 1 Axes>"
            ]
          },
          "metadata": {
            "tags": []
          }
        }
      ]
    },
    {
      "cell_type": "code",
      "metadata": {
        "id": "36DJvi287b9Z",
        "colab_type": "code",
        "colab": {}
      },
      "source": [
        ""
      ],
      "execution_count": 0,
      "outputs": []
    },
    {
      "cell_type": "markdown",
      "metadata": {
        "id": "ZvL7ZUCuxSj5",
        "colab_type": "text"
      },
      "source": [
        "# How fast are cases growing?\n"
      ]
    },
    {
      "cell_type": "code",
      "metadata": {
        "id": "gu2EHLOgQX-H",
        "colab_type": "code",
        "colab": {}
      },
      "source": [
        "data_valid = data[~data['Date of Lab Confirmation'].isin(['for_validation', 'none'])]"
      ],
      "execution_count": 0,
      "outputs": []
    },
    {
      "cell_type": "code",
      "metadata": {
        "id": "341aNYzMZySZ",
        "colab_type": "code",
        "outputId": "c316e58a-420f-4636-9221-d8b55040dbb3",
        "colab": {
          "base_uri": "https://localhost:8080/",
          "height": 119
        }
      },
      "source": [
        "data_valid['Date of Lab Confirmation'] = data_valid['Date of Lab Confirmation'].apply(lambda x: datetime.strptime(x, \"%d-%b-%y\"))\n",
        "data_valid['Week of Lab Confirmation'] = data_valid['Date of Lab Confirmation'] -  pd.to_timedelta(data_valid['Date of Lab Confirmation'].dt.dayofweek, unit='d')\n"
      ],
      "execution_count": 0,
      "outputs": [
        {
          "output_type": "stream",
          "text": [
            "/usr/local/lib/python3.6/dist-packages/ipykernel_launcher.py:1: SettingWithCopyWarning: \n",
            "A value is trying to be set on a copy of a slice from a DataFrame.\n",
            "Try using .loc[row_indexer,col_indexer] = value instead\n",
            "\n",
            "See the caveats in the documentation: http://pandas.pydata.org/pandas-docs/stable/user_guide/indexing.html#returning-a-view-versus-a-copy\n",
            "  \"\"\"Entry point for launching an IPython kernel.\n"
          ],
          "name": "stderr"
        }
      ]
    },
    {
      "cell_type": "code",
      "metadata": {
        "id": "ld7HY7lwZ4OT",
        "colab_type": "code",
        "outputId": "71cf42b1-243b-4718-9376-db9c7d8c6c67",
        "colab": {
          "base_uri": "https://localhost:8080/",
          "height": 289
        }
      },
      "source": [
        "data_valid.groupby('Date of Lab Confirmation')['Case No.'].count()"
      ],
      "execution_count": 0,
      "outputs": [
        {
          "output_type": "execute_result",
          "data": {
            "text/plain": [
              "Date of Lab Confirmation\n",
              "2020-01-30     3\n",
              "2020-03-05     2\n",
              "2020-03-06     1\n",
              "2020-03-08     4\n",
              "2020-03-09    14\n",
              "2020-03-10     9\n",
              "2020-03-11    19\n",
              "2020-03-12     2\n",
              "2020-03-13    35\n",
              "2020-03-14    12\n",
              "2020-03-15    26\n",
              "2020-03-16    47\n",
              "2020-03-17     7\n",
              "2020-03-18    19\n",
              "Name: Case No., dtype: int64"
            ]
          },
          "metadata": {
            "tags": []
          },
          "execution_count": 303
        }
      ]
    },
    {
      "cell_type": "markdown",
      "metadata": {
        "id": "T3zx-rMcqxkH",
        "colab_type": "text"
      },
      "source": [
        "## New cases"
      ]
    },
    {
      "cell_type": "code",
      "metadata": {
        "id": "PGcRyIawdZsw",
        "colab_type": "code",
        "outputId": "6f59de67-f638-48de-f675-a8e224268ee0",
        "colab": {
          "base_uri": "https://localhost:8080/",
          "height": 318
        }
      },
      "source": [
        "data_valid.groupby('Date of Lab Confirmation')['Case No.'].count().loc['2020-03-01':].plot(figsize=(12, 7))\n",
        "plt.title('New Cases per Date')"
      ],
      "execution_count": 0,
      "outputs": [
        {
          "output_type": "execute_result",
          "data": {
            "text/plain": [
              "Text(0.5, 1.0, 'New Cases per Date')"
            ]
          },
          "metadata": {
            "tags": []
          },
          "execution_count": 306
        },
        {
          "output_type": "display_data",
          "data": {
            "image/png": "[encoded data removed]",
            "text/plain": [
              "<Figure size 432x288 with 1 Axes>"
            ]
          },
          "metadata": {
            "tags": []
          }
        }
      ]
    },
    {
      "cell_type": "code",
      "metadata": {
        "id": "48dSFObZd2oe",
        "colab_type": "code",
        "outputId": "82acbc88-7b6a-4079-ad39-0a21b4c792f6",
        "colab": {
          "base_uri": "https://localhost:8080/",
          "height": 336
        }
      },
      "source": [
        "data_valid.groupby('Week of Lab Confirmation')['Case No.'].count().loc['2020-03-01':].plot(figsize=(12, 7))\n",
        "plt.title('New Cases per Week')"
      ],
      "execution_count": 0,
      "outputs": [
        {
          "output_type": "execute_result",
          "data": {
            "text/plain": [
              "Text(0.5, 1.0, 'New Cases per Week')"
            ]
          },
          "metadata": {
            "tags": []
          },
          "execution_count": 311
        },
        {
          "output_type": "display_data",
          "data": {
            "image/png": "[encoded data removed]",
            "text/plain": [
              "<Figure size 432x288 with 1 Axes>"
            ]
          },
          "metadata": {
            "tags": []
          }
        }
      ]
    },
    {
      "cell_type": "markdown",
      "metadata": {
        "id": "d7GREYv2q0OK",
        "colab_type": "text"
      },
      "source": [
        "## Cumulative cases"
      ]
    },
    {
      "cell_type": "code",
      "metadata": {
        "id": "xjKPMEHUfHAP",
        "colab_type": "code",
        "outputId": "ba9aba87-126f-4dbe-9028-093b83d4535a",
        "colab": {
          "base_uri": "https://localhost:8080/",
          "height": 470
        }
      },
      "source": [
        "cum_cases = data_valid.groupby('Date of Lab Confirmation')[['Case No.']].count()\n",
        "cum_cases.columns = ['Cumulative Cases']\n",
        "cum_cases.loc['2020-03-01':].cumsum().plot(figsize=(12, 7))\n",
        "plt.title('Cumulative Confirmed Cases per Date (Validated)', fontsize=20)"
      ],
      "execution_count": 0,
      "outputs": [
        {
          "output_type": "execute_result",
          "data": {
            "text/plain": [
              "Text(0.5, 1.0, 'Cumulative Confirmed Cases per Date (Validated)')"
            ]
          },
          "metadata": {
            "tags": []
          },
          "execution_count": 374
        },
        {
          "output_type": "display_data",
          "data": {
            "image/png": "[encoded data removed]",
            "text/plain": [
              "<Figure size 864x504 with 1 Axes>"
            ]
          },
          "metadata": {
            "tags": []
          }
        }
      ]
    },
    {
      "cell_type": "code",
      "metadata": {
        "id": "HG6OVgm9mM-g",
        "colab_type": "code",
        "outputId": "deba136f-6ccd-494a-b0a9-ea787bfa1d47",
        "colab": {
          "base_uri": "https://localhost:8080/",
          "height": 499
        }
      },
      "source": [
        "cum_cases_week = data_valid.groupby('Week of Lab Confirmation')[['Case No.']].count()\n",
        "cum_cases_week.columns = ['Cumulative Cases']\n",
        "cum_cases_week.loc['2020-03-01':].cumsum().plot(figsize=(12, 7))\n",
        "plt.title('Cumulative Confirmed Cases per Week')"
      ],
      "execution_count": 0,
      "outputs": [
        {
          "output_type": "execute_result",
          "data": {
            "text/plain": [
              "Text(0.5, 1.0, 'Cumulative Confirmed Cases per Week')"
            ]
          },
          "metadata": {
            "tags": []
          },
          "execution_count": 370
        },
        {
          "output_type": "display_data",
          "data": {
            "image/png": "[encoded data removed]",
            "text/plain": [
              "<Figure size 864x504 with 1 Axes>"
            ]
          },
          "metadata": {
            "tags": []
          }
        }
      ]
    },
    {
      "cell_type": "code",
      "metadata": {
        "id": "US8H2D25fiPL",
        "colab_type": "code",
        "colab": {}
      },
      "source": [
        ""
      ],
      "execution_count": 0,
      "outputs": []
    },
    {
      "cell_type": "markdown",
      "metadata": {
        "id": "cfpjWseqq4TZ",
        "colab_type": "text"
      },
      "source": [
        "## New deaths"
      ]
    },
    {
      "cell_type": "code",
      "metadata": {
        "id": "mGtNvvb7itQO",
        "colab_type": "code",
        "outputId": "8aa7c771-1b09-45b2-eb83-12b1d55d4a4d",
        "colab": {
          "base_uri": "https://localhost:8080/",
          "height": 221
        }
      },
      "source": [
        "final_status_mask = ~data['Date of Final Status (recovered/expired)'].isin(['for_validation', 'none'])\n",
        "final_status_data = data[final_status_mask]\n",
        "final_status_data['Date of Final Status (recovered/expired)'] = final_status_data['Date of Final Status (recovered/expired)'].apply(lambda x: datetime.strptime(x, \"%d-%b-%Y\"))\n",
        "final_status_data['Week of Final Status (recovered/expired)'] = final_status_data['Date of Final Status (recovered/expired)'] -  pd.to_timedelta(final_status_data['Date of Final Status (recovered/expired)'].dt.dayofweek, unit='d')\n"
      ],
      "execution_count": 0,
      "outputs": [
        {
          "output_type": "stream",
          "text": [
            "/usr/local/lib/python3.6/dist-packages/ipykernel_launcher.py:3: SettingWithCopyWarning: \n",
            "A value is trying to be set on a copy of a slice from a DataFrame.\n",
            "Try using .loc[row_indexer,col_indexer] = value instead\n",
            "\n",
            "See the caveats in the documentation: http://pandas.pydata.org/pandas-docs/stable/user_guide/indexing.html#returning-a-view-versus-a-copy\n",
            "  This is separate from the ipykernel package so we can avoid doing imports until\n",
            "/usr/local/lib/python3.6/dist-packages/ipykernel_launcher.py:4: SettingWithCopyWarning: \n",
            "A value is trying to be set on a copy of a slice from a DataFrame.\n",
            "Try using .loc[row_indexer,col_indexer] = value instead\n",
            "\n",
            "See the caveats in the documentation: http://pandas.pydata.org/pandas-docs/stable/user_guide/indexing.html#returning-a-view-versus-a-copy\n",
            "  after removing the cwd from sys.path.\n"
          ],
          "name": "stderr"
        }
      ]
    },
    {
      "cell_type": "code",
      "metadata": {
        "id": "LFuUNZK5g51y",
        "colab_type": "code",
        "outputId": "eb0a67b2-d126-4690-eb33-2bdd3f36d2a5",
        "colab": {
          "base_uri": "https://localhost:8080/",
          "height": 470
        }
      },
      "source": [
        "final_status_data.groupby('Date of Final Status (recovered/expired)')['died'].sum().plot(figsize=(12, 7))\n",
        "plt.title('New Deaths per Date', fontsize=20)"
      ],
      "execution_count": 0,
      "outputs": [
        {
          "output_type": "execute_result",
          "data": {
            "text/plain": [
              "Text(0.5, 1.0, 'New Deaths per Date')"
            ]
          },
          "metadata": {
            "tags": []
          },
          "execution_count": 354
        },
        {
          "output_type": "display_data",
          "data": {
            "image/png": "[encoded data removed]",
            "text/plain": [
              "<Figure size 864x504 with 1 Axes>"
            ]
          },
          "metadata": {
            "tags": []
          }
        }
      ]
    },
    {
      "cell_type": "markdown",
      "metadata": {
        "id": "1ITuHSZ8q7ne",
        "colab_type": "text"
      },
      "source": [
        "## New recoveries"
      ]
    },
    {
      "cell_type": "code",
      "metadata": {
        "id": "T_kwlG31hcks",
        "colab_type": "code",
        "outputId": "d086b434-8efd-48f8-c47b-76822a0c9558",
        "colab": {
          "base_uri": "https://localhost:8080/",
          "height": 470
        }
      },
      "source": [
        "final_status_data.groupby('Date of Final Status (recovered/expired)')['recovered'].sum().plot(figsize=(12, 7))\n",
        "plt.title('New Recoveries per Date', fontsize=20)"
      ],
      "execution_count": 0,
      "outputs": [
        {
          "output_type": "execute_result",
          "data": {
            "text/plain": [
              "Text(0.5, 1.0, 'New Recoveries per Date')"
            ]
          },
          "metadata": {
            "tags": []
          },
          "execution_count": 353
        },
        {
          "output_type": "display_data",
          "data": {
            "image/png": "[encoded data removed]",
            "text/plain": [
              "<Figure size 864x504 with 1 Axes>"
            ]
          },
          "metadata": {
            "tags": []
          }
        }
      ]
    },
    {
      "cell_type": "code",
      "metadata": {
        "id": "SkkNJxm-kKLl",
        "colab_type": "code",
        "outputId": "79eb892e-9462-4803-8f5b-d6bf4913825e",
        "colab": {
          "base_uri": "https://localhost:8080/",
          "height": 470
        }
      },
      "source": [
        "final_status_data.groupby('Date of Final Status (recovered/expired)')[['recovered', 'died']].sum().plot(figsize=(12, 7))\n",
        "plt.title('New Recoveries and Deaths per Date', fontsize=20)"
      ],
      "execution_count": 0,
      "outputs": [
        {
          "output_type": "execute_result",
          "data": {
            "text/plain": [
              "Text(0.5, 1.0, 'New Recoveries and Deaths per Date')"
            ]
          },
          "metadata": {
            "tags": []
          },
          "execution_count": 355
        },
        {
          "output_type": "display_data",
          "data": {
            "image/png": "[encoded data removed]",
            "text/plain": [
              "<Figure size 864x504 with 1 Axes>"
            ]
          },
          "metadata": {
            "tags": []
          }
        }
      ]
    },
    {
      "cell_type": "markdown",
      "metadata": {
        "id": "8U4_KThkrfZ5",
        "colab_type": "text"
      },
      "source": [
        "## Cumulative recoveries and deaths"
      ]
    },
    {
      "cell_type": "code",
      "metadata": {
        "id": "mMKHmMDAkQMY",
        "colab_type": "code",
        "outputId": "94f3b474-fe5b-4e95-c5b4-5e6e614a10e5",
        "colab": {
          "base_uri": "https://localhost:8080/",
          "height": 470
        }
      },
      "source": [
        "final_status_data.groupby('Date of Final Status (recovered/expired)')[['recovered', 'died']].sum().cumsum().loc['2020-03-01':].plot(figsize=(12, 7))\n",
        "plt.title('Cumulative Recoveries and Deaths per Date', fontsize=20)"
      ],
      "execution_count": 0,
      "outputs": [
        {
          "output_type": "execute_result",
          "data": {
            "text/plain": [
              "Text(0.5, 1.0, 'Cumulative Recoveries and Deaths per Date')"
            ]
          },
          "metadata": {
            "tags": []
          },
          "execution_count": 358
        },
        {
          "output_type": "display_data",
          "data": {
            "image/png": "[encoded data removed]",
            "text/plain": [
              "<Figure size 864x504 with 1 Axes>"
            ]
          },
          "metadata": {
            "tags": []
          }
        }
      ]
    },
    {
      "cell_type": "code",
      "metadata": {
        "id": "CpZ5Vd1Dki-3",
        "colab_type": "code",
        "outputId": "a6b27b8d-3068-4020-cf68-0ac7e24a57a4",
        "colab": {
          "base_uri": "https://localhost:8080/",
          "height": 470
        }
      },
      "source": [
        "fig, ax = plt.subplots()\n",
        "\n",
        "final_status_data.groupby('Date of Final Status (recovered/expired)')[['recovered', 'died']].sum().cumsum().loc['2020-03-01':].plot(figsize=(12, 7), ax=ax)\n",
        "cum_cases.loc['2020-03-01':].cumsum().plot(figsize=(12, 7), ax=ax)\n",
        "plt.title('Cumulative Cases vs Recovered vs Died', fontsize=20)"
      ],
      "execution_count": 0,
      "outputs": [
        {
          "output_type": "execute_result",
          "data": {
            "text/plain": [
              "Text(0.5, 1.0, 'Cumulative Cases vs Recovered vs Died')"
            ]
          },
          "metadata": {
            "tags": []
          },
          "execution_count": 381
        },
        {
          "output_type": "display_data",
          "data": {
            "image/png": "[encoded data removed]",
            "text/plain": [
              "<Figure size 864x504 with 1 Axes>"
            ]
          },
          "metadata": {
            "tags": []
          }
        }
      ]
    },
    {
      "cell_type": "code",
      "metadata": {
        "id": "ElA92aNyk1eE",
        "colab_type": "code",
        "colab": {}
      },
      "source": [
        ""
      ],
      "execution_count": 0,
      "outputs": []
    },
    {
      "cell_type": "markdown",
      "metadata": {
        "id": "yps2N5f3omPT",
        "colab_type": "text"
      },
      "source": [
        "# Mapping the patients (to follow!)"
      ]
    },
    {
      "cell_type": "code",
      "metadata": {
        "id": "x16GaH-ao0UB",
        "colab_type": "code",
        "colab": {}
      },
      "source": [
        ""
      ],
      "execution_count": 0,
      "outputs": []
    }
  ]
}