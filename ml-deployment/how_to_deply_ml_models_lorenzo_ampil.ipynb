{
  "nbformat": 4,
  "nbformat_minor": 0,
  "metadata": {
    "colab": {
      "name": "how_to_deply_ml_models_lorenzo_ampil.ipynb",
      "provenance": [],
      "collapsed_sections": [],
      "authorship_tag": "ABX9TyOX4kmsNCmxw/9Bhdi3RKlQ",
      "include_colab_link": true
    },
    "kernelspec": {
      "name": "python3",
      "display_name": "Python 3"
    }
  },
  "cells": [
    {
      "cell_type": "markdown",
      "metadata": {
        "id": "view-in-github",
        "colab_type": "text"
      },
      "source": [
        "<a href=\"https://colab.research.google.com/github/enzoampil/data-science-demos/blob/master/ml-deployment/how_to_deply_ml_models_lorenzo_ampil.ipynb\" target=\"_parent\"><img src=\"https://colab.research.google.com/assets/colab-badge.svg\" alt=\"Open In Colab\"/></a>"
      ]
    },
    {
      "cell_type": "markdown",
      "metadata": {
        "id": "4G9a6c0hwnn3",
        "colab_type": "text"
      },
      "source": [
        "# Setup"
      ]
    },
    {
      "cell_type": "code",
      "metadata": {
        "id": "RCBNnIOJwKe0",
        "colab_type": "code",
        "colab": {
          "base_uri": "https://localhost:8080/",
          "height": 204
        },
        "outputId": "fea10be6-eae9-480c-b952-cf7d76b9ca3b"
      },
      "source": [
        "!pip install spacy\n",
        "!python -m spacy download en_core_web_sm\n",
        "!pip install fastapi nest-asyncio pyngrok uvicorn\n",
        "!pip install streamlit\n",
        "!wget https://bin.equinox.io/c/4VmDzA7iaHb/ngrok-stable-linux-amd64.zip\n",
        "!unzip -qq ngrok-stable-linux-amd64.zip"
      ],
      "execution_count": 31,
      "outputs": [
        {
          "output_type": "stream",
          "text": [
            "--2020-09-25 10:55:33--  https://bin.equinox.io/c/4VmDzA7iaHb/ngrok-stable-linux-amd64.zip\n",
            "Resolving bin.equinox.io (bin.equinox.io)... 35.170.115.131, 52.206.15.164, 54.84.116.182, ...\n",
            "Connecting to bin.equinox.io (bin.equinox.io)|35.170.115.131|:443... connected.\n",
            "HTTP request sent, awaiting response... 200 OK\n",
            "Length: 13773305 (13M) [application/octet-stream]\n",
            "Saving to: ‘ngrok-stable-linux-amd64.zip’\n",
            "\n",
            "ngrok-stable-linux- 100%[===================>]  13.13M  53.7MB/s    in 0.2s    \n",
            "\n",
            "2020-09-25 10:55:34 (53.7 MB/s) - ‘ngrok-stable-linux-amd64.zip’ saved [13773305/13773305]\n",
            "\n"
          ],
          "name": "stdout"
        }
      ]
    },
    {
      "cell_type": "code",
      "metadata": {
        "id": "zPRwWchFxEgs",
        "colab_type": "code",
        "colab": {}
      },
      "source": [
        "import spacy"
      ],
      "execution_count": null,
      "outputs": []
    },
    {
      "cell_type": "markdown",
      "metadata": {
        "id": "z1L_BWr5wRCb",
        "colab_type": "text"
      },
      "source": [
        "# How to deploy ML models walkthrough\n",
        "\n",
        "\n",
        "1. **Realtime deployment** - you run the model when a specific event happens\n",
        "2. **Batch deployment** - you run the model periodically\n"
      ]
    },
    {
      "cell_type": "markdown",
      "metadata": {
        "id": "HeBiBXqcx5Ex",
        "colab_type": "text"
      },
      "source": [
        "## Let's use a simple entity detector using spacy"
      ]
    },
    {
      "cell_type": "code",
      "metadata": {
        "id": "55AnOHPTwR5B",
        "colab_type": "code",
        "colab": {}
      },
      "source": [
        "def extract_entities(text):\n",
        "# Load English tokenizer, tagger, parser, NER and word vectors\n",
        "    nlp = spacy.load(\"en_core_web_sm\")\n",
        "\n",
        "\n",
        "    doc = nlp(text)\n",
        "\n",
        "    # Find named entities, phrases and concepts\n",
        "    entities = []\n",
        "    for entity in doc.ents:\n",
        "        entities.append((entity.text, entity.label_))\n",
        "    return entities"
      ],
      "execution_count": 4,
      "outputs": []
    },
    {
      "cell_type": "code",
      "metadata": {
        "id": "OEHwKox-wyjS",
        "colab_type": "code",
        "colab": {
          "base_uri": "https://localhost:8080/",
          "height": 119
        },
        "outputId": "aff12879-2f96-475f-f3ce-9aebb05042ee"
      },
      "source": [
        "# Process whole documents\n",
        "text = (\"When Sebastian Thrun started working on self-driving cars at \"\n",
        "        \"Google in 2007, few people outside of the company took him \"\n",
        "        \"seriously. “I can tell you very senior CEOs of major American \"\n",
        "        \"car companies would shake my hand and turn away because I wasn’t \"\n",
        "        \"worth talking to,” said Thrun, in an interview with Recode earlier \"\n",
        "        \"this week.\")\n",
        "\n",
        "extract_entities(text)"
      ],
      "execution_count": 5,
      "outputs": [
        {
          "output_type": "execute_result",
          "data": {
            "text/plain": [
              "[('Sebastian', 'NORP'),\n",
              " ('Google', 'ORG'),\n",
              " ('2007', 'DATE'),\n",
              " ('American', 'NORP'),\n",
              " ('Recode', 'ORG'),\n",
              " ('earlier this week', 'DATE')]"
            ]
          },
          "metadata": {
            "tags": []
          },
          "execution_count": 5
        }
      ]
    },
    {
      "cell_type": "markdown",
      "metadata": {
        "id": "qBgckP_Cze9N",
        "colab_type": "text"
      },
      "source": [
        "# Realtime deployment\n",
        "\n",
        "1. Typical process\n",
        "    1. You want predictions after a certain \"event\" happens\n",
        "    2. I.e., the predictions are \"event driven\"\n",
        "    3. Examples of \"events\n",
        "        1. Someone clicks on the signup button\n",
        "            1. What product plan to recommend them???\n",
        "        2. You book a trip on grab\n",
        "            1. What's the ETA of the trip???\n",
        "2. How to implement\n",
        "    1. Deploy as an API\n",
        "        1. I recommend doing this with FastAPI\n",
        "    2. Deploy straight into a webapp\n",
        "        1. Streamlit is the easiest way"
      ]
    },
    {
      "cell_type": "markdown",
      "metadata": {
        "id": "9Dsq5zca3EXL",
        "colab_type": "text"
      },
      "source": [
        "### Deploy on FastAPI"
      ]
    },
    {
      "cell_type": "code",
      "metadata": {
        "id": "sZ-Rvtmcx0lf",
        "colab_type": "code",
        "colab": {}
      },
      "source": [
        "from fastapi import FastAPI\n",
        "from fastapi.middleware.cors import CORSMiddleware\n",
        "\n",
        "app = FastAPI()\n",
        "\n",
        "app.add_middleware(\n",
        "    CORSMiddleware,\n",
        "    allow_origins=['*'],\n",
        "    allow_credentials=True,\n",
        "    allow_methods=['*'],\n",
        "    allow_headers=['*'],\n",
        ")\n",
        "\n",
        "@app.get('/{text}')\n",
        "async def extract_entities(text):\n",
        "# Load English tokenizer, tagger, parser, NER and word vectors\n",
        "    nlp = spacy.load(\"en_core_web_sm\")\n",
        "\n",
        "\n",
        "    doc = nlp(text)\n",
        "\n",
        "    # Find named entities, phrases and concepts\n",
        "    entities = []\n",
        "    for entity in doc.ents:\n",
        "        entities.append((entity.text, entity.label_))\n",
        "    return entities"
      ],
      "execution_count": 33,
      "outputs": []
    },
    {
      "cell_type": "code",
      "metadata": {
        "id": "EnwJyic91d1a",
        "colab_type": "code",
        "colab": {
          "base_uri": "https://localhost:8080/",
          "height": 54
        },
        "outputId": "b3f607e9-6384-4226-8a61-15cc6f6fdf41"
      },
      "source": [
        "# Have to translate spaces to %20 to use as URL argument\n",
        "translated_input = text.replace(\" \", \"%20\")\n",
        "print(translated_input)"
      ],
      "execution_count": 43,
      "outputs": [
        {
          "output_type": "stream",
          "text": [
            "When%20Sebastian%20Thrun%20started%20working%20on%20self-driving%20cars%20at%20Google%20in%202007,%20few%20people%20outside%20of%20the%20company%20took%20him%20seriously.%20“I%20can%20tell%20you%20very%20senior%20CEOs%20of%20major%20American%20car%20companies%20would%20shake%20my%20hand%20and%20turn%20away%20because%20I%20wasn’t%20worth%20talking%20to,”%20said%20Thrun,%20in%20an%20interview%20with%20Recode%20earlier%20this%20week.\n"
          ],
          "name": "stdout"
        }
      ]
    },
    {
      "cell_type": "code",
      "metadata": {
        "id": "SodWyp5Cz5k4",
        "colab_type": "code",
        "colab": {
          "base_uri": "https://localhost:8080/",
          "height": 241
        },
        "outputId": "f33e1329-a407-4ff8-d3c1-de653201472a"
      },
      "source": [
        "import nest_asyncio\n",
        "from pyngrok import ngrok\n",
        "import uvicorn\n",
        "\n",
        "url = ngrok.connect(port=8000)\n",
        "print('Public URL:', url)\n",
        "print('Sample URL w/ input:', url + \"/\" + translated_input)\n",
        "nest_asyncio.apply()\n",
        "\n",
        "uvicorn.run(app, port=8000)"
      ],
      "execution_count": 65,
      "outputs": [
        {
          "output_type": "stream",
          "text": [
            "Public URL: http://48e55a31f05d.ngrok.io\n",
            "Sample URL w/ input: http://48e55a31f05d.ngrok.io/When%20Sebastian%20Thrun%20started%20working%20on%20self-driving%20cars%20at%20Google%20in%202007,%20few%20people%20outside%20of%20the%20company%20took%20him%20seriously.%20“I%20can%20tell%20you%20very%20senior%20CEOs%20of%20major%20American%20car%20companies%20would%20shake%20my%20hand%20and%20turn%20away%20because%20I%20wasn’t%20worth%20talking%20to,”%20said%20Thrun,%20in%20an%20interview%20with%20Recode%20earlier%20this%20week.\n"
          ],
          "name": "stdout"
        },
        {
          "output_type": "stream",
          "text": [
            "INFO:     Started server process [100]\n",
            "INFO:     Waiting for application startup.\n",
            "INFO:     Application startup complete.\n",
            "INFO:     Uvicorn running on http://127.0.0.1:8000 (Press CTRL+C to quit)\n"
          ],
          "name": "stderr"
        },
        {
          "output_type": "stream",
          "text": [
            "INFO:     112.207.114.125:0 - \"GET /When%20Sebastian%20Thrun%20started%20working%20on%20self-driving%20cars%20at%20Google%20in%202007%2C%20few%20people%20outside%20of%20the%20company%20took%20him%20seriously.%20 HTTP/1.1\" 200 OK\n",
            "INFO:     112.207.114.125:0 - \"GET /favicon.ico HTTP/1.1\" 200 OK\n"
          ],
          "name": "stdout"
        },
        {
          "output_type": "stream",
          "text": [
            "INFO:     Shutting down\n",
            "INFO:     Waiting for application shutdown.\n",
            "INFO:     Application shutdown complete.\n",
            "INFO:     Finished server process [100]\n"
          ],
          "name": "stderr"
        }
      ]
    },
    {
      "cell_type": "markdown",
      "metadata": {
        "id": "y4vMt-WE3Go5",
        "colab_type": "text"
      },
      "source": [
        "### Deploy on Streamlit"
      ]
    },
    {
      "cell_type": "code",
      "metadata": {
        "id": "jqnFRitX2rPN",
        "colab_type": "code",
        "colab": {}
      },
      "source": [
        "STREAMLIT_CODE = \"\"\"\n",
        "import streamlit as st\n",
        "import spacy\n",
        "\n",
        "def extract_entities(text):\n",
        "    # Load English tokenizer, tagger, parser, NER and word vectors\n",
        "    nlp = spacy.load(\"en_core_web_sm\")\n",
        "\n",
        "\n",
        "    doc = nlp(text)\n",
        "\n",
        "    # Find named entities, phrases and concepts\n",
        "    entities = []\n",
        "    for entity in doc.ents:\n",
        "        entities.append((entity.text, entity.label_))\n",
        "    return entities\n",
        "\n",
        "user_input = st.text_input(\"Input text\", \"\")\n",
        "\n",
        "st.text(extract_entities(user_input))\n",
        "\"\"\""
      ],
      "execution_count": 46,
      "outputs": []
    },
    {
      "cell_type": "code",
      "metadata": {
        "id": "8iHvEOyG3pp_",
        "colab_type": "code",
        "colab": {}
      },
      "source": [
        "#!echo {STREAMLIT_CODE} >> spacy_streamlit.py\n",
        "st_file = open(\"spacy_streamlit.py\", \"w\")\n",
        "n = st_file.write(STREAMLIT_CODE)\n",
        "st_file.close()"
      ],
      "execution_count": 47,
      "outputs": []
    },
    {
      "cell_type": "code",
      "metadata": {
        "id": "Cs-DdjGl5Gcf",
        "colab_type": "code",
        "colab": {
          "base_uri": "https://localhost:8080/",
          "height": 357
        },
        "outputId": "4b99c2ed-fa7b-415f-a7f9-79bc7c2e9bf3"
      },
      "source": [
        "!cat spacy_streamlit.py"
      ],
      "execution_count": 48,
      "outputs": [
        {
          "output_type": "stream",
          "text": [
            "\n",
            "import streamlit as st\n",
            "import spacy\n",
            "\n",
            "def extract_entities(text):\n",
            "    # Load English tokenizer, tagger, parser, NER and word vectors\n",
            "    nlp = spacy.load(\"en_core_web_sm\")\n",
            "\n",
            "\n",
            "    doc = nlp(text)\n",
            "\n",
            "    # Find named entities, phrases and concepts\n",
            "    entities = []\n",
            "    for entity in doc.ents:\n",
            "        entities.append((entity.text, entity.label_))\n",
            "    return entities\n",
            "\n",
            "user_input = st.text_input(\"Input text\", \"\")\n",
            "\n",
            "st.text(extract_entities(user_input))\n"
          ],
          "name": "stdout"
        }
      ]
    },
    {
      "cell_type": "markdown",
      "metadata": {
        "id": "oE8YZYsk-UGs",
        "colab_type": "text"
      },
      "source": [
        "**Use the output of this command as the link to your app.**"
      ]
    },
    {
      "cell_type": "code",
      "metadata": {
        "id": "XMOoOLFT88ku",
        "colab_type": "code",
        "colab": {
          "base_uri": "https://localhost:8080/",
          "height": 34
        },
        "outputId": "b3aa7b4b-4140-4432-d627-6b657599dad4"
      },
      "source": [
        "# If it says \"list index out of range\" just run it again\n",
        "get_ipython().system_raw('./ngrok http 8501 &')\n",
        "!curl -s http://localhost:4040/api/tunnels | python3 -c \\\n",
        "    \"import sys, json; print(json.load(sys.stdin)['tunnels'][0]['public_url'])\""
      ],
      "execution_count": 67,
      "outputs": [
        {
          "output_type": "stream",
          "text": [
            "https://3d0bd5c624a7.ngrok.io\n"
          ],
          "name": "stdout"
        }
      ]
    },
    {
      "cell_type": "code",
      "metadata": {
        "id": "RiwcTGae5Kcm",
        "colab_type": "code",
        "colab": {
          "base_uri": "https://localhost:8080/",
          "height": 153
        },
        "outputId": "43227e9d-7cba-447f-8fc5-297328e18bc3"
      },
      "source": [
        "!streamlit run spacy_streamlit.py"
      ],
      "execution_count": 68,
      "outputs": [
        {
          "output_type": "stream",
          "text": [
            "\u001b[0m\n",
            "\u001b[34m\u001b[1m  You can now view your Streamlit app in your browser.\u001b[0m\n",
            "\u001b[0m\n",
            "\u001b[34m  Network URL: \u001b[0m\u001b[1mhttp://172.28.0.2:8501\u001b[0m\n",
            "\u001b[34m  External URL: \u001b[0m\u001b[1mhttp://34.73.210.146:8501\u001b[0m\n",
            "\u001b[0m\n",
            "\u001b[34m  Stopping...\u001b[0m\n",
            "\u001b[34m  Stopping...\u001b[0m\n"
          ],
          "name": "stdout"
        }
      ]
    },
    {
      "cell_type": "markdown",
      "metadata": {
        "id": "1UDSjJQ91zwV",
        "colab_type": "text"
      },
      "source": [
        "## Batch deployment\n",
        "1. Typical process\n",
        "    1. Periodic ingestion from a data source\n",
        "        1. This is when you want predictions periodically\n",
        "            1. Return the list of users most likely to \"churn\" every week\n",
        "        2. Example data sources\n",
        "            1. App database (DB)\n",
        "            2. External APIs (e.g. Twitter)\n",
        "            3. Some website you're scraping\n",
        "    2. Use data as an input into an ML pipeline\n",
        "        1. Extract entities from using NER\n",
        "        2. Predict demographics of new users based on their signup details? Creepy ...\n",
        "        3. Classify article topics based on their contents\n",
        "2. How to implement\n",
        "    1. Workflow orchestration frameworks\n",
        "        1. Crontab\n",
        "            1. Use this if you want something super fast\n",
        "            2. All you need to do is edit a file and use cron notation\n",
        "                1. (minute / hour / day of month / month / day of week)\n",
        "                2. `* * * * *` - every minute of everyday\n",
        "                3. `5 4 * * *` - 4:05 AM every day\n",
        "        2. Airflow\n",
        "            1. Use this when your pipeline becomes more complex\n",
        "                1. Multiple dependencies\n",
        "            2. It's a pain to set up but well worth it once you have it up and running\n",
        "        3. Dagster*\n",
        "            1. New framework that I've heard great things about, but haven't tried!!"
      ]
    },
    {
      "cell_type": "code",
      "metadata": {
        "id": "doHIcAyiz6--",
        "colab_type": "code",
        "colab": {
          "base_uri": "https://localhost:8080/",
          "height": 1000
        },
        "outputId": "aee76a9c-eb08-4a8e-91e0-e6d6e0588c42"
      },
      "source": [
        "!pip install \\\n",
        " apache-airflow==1.10.12 \\\n",
        " --constraint \"https://raw.githubusercontent.com/apache/airflow/constraints-1.10.12/constraints-3.7.txt\""
      ],
      "execution_count": 23,
      "outputs": [
        {
          "output_type": "stream",
          "text": [
            "Collecting apache-airflow==1.10.12\n",
            "\u001b[?25l  Downloading https://files.pythonhosted.org/packages/36/07/368cf47f06564d7ffff603ade4c60039ecf3f5b368b75201f4ccb5512d78/apache_airflow-1.10.12-py2.py3-none-any.whl (4.7MB)\n",
            "\u001b[K     |████████████████████████████████| 4.7MB 2.9MB/s \n",
            "\u001b[?25hCollecting Markdown==2.6.11\n",
            "\u001b[?25l  Downloading https://files.pythonhosted.org/packages/6d/7d/488b90f470b96531a3f5788cf12a93332f543dbab13c423a5e7ce96a0493/Markdown-2.6.11-py2.py3-none-any.whl (78kB)\n",
            "\u001b[K     |████████████████████████████████| 81kB 6.1MB/s \n",
            "\u001b[?25hCollecting croniter==0.3.34\n",
            "  Downloading https://files.pythonhosted.org/packages/9b/83/9b70ce509a225da6b4b1e7779f31c12ee58e26df814d6a03227b1378bf04/croniter-0.3.34-py2.py3-none-any.whl\n",
            "Collecting alembic==1.4.2\n",
            "\u001b[?25l  Downloading https://files.pythonhosted.org/packages/60/1e/cabc75a189de0fbb2841d0975243e59bde8b7822bacbb95008ac6fe9ad47/alembic-1.4.2.tar.gz (1.1MB)\n",
            "\u001b[K     |████████████████████████████████| 1.1MB 38.9MB/s \n",
            "\u001b[?25h  Installing build dependencies ... \u001b[?25l\u001b[?25hdone\n",
            "  Getting requirements to build wheel ... \u001b[?25l\u001b[?25hdone\n",
            "    Preparing wheel metadata ... \u001b[?25l\u001b[?25hdone\n",
            "Collecting Flask-Login==0.4.1\n",
            "  Downloading https://files.pythonhosted.org/packages/c1/ff/bd9a4d2d81bf0c07d9e53e8cd3d675c56553719bbefd372df69bf1b3c1e4/Flask-Login-0.4.1.tar.gz\n",
            "Collecting iso8601==0.1.12\n",
            "  Downloading https://files.pythonhosted.org/packages/ef/57/7162609dab394d38bbc7077b7ba0a6f10fb09d8b7701ea56fa1edc0c4345/iso8601-0.1.12-py2.py3-none-any.whl\n",
            "Collecting thrift==0.13.0\n",
            "\u001b[?25l  Downloading https://files.pythonhosted.org/packages/97/1e/3284d19d7be99305eda145b8aa46b0c33244e4a496ec66440dac19f8274d/thrift-0.13.0.tar.gz (59kB)\n",
            "\u001b[K     |████████████████████████████████| 61kB 6.5MB/s \n",
            "\u001b[?25hCollecting tenacity==4.12.0\n",
            "  Downloading https://files.pythonhosted.org/packages/75/1b/46a6a7b7c2b16811665ea09b7e63e7e6b7f9b5dedf2d0ba67e029668403c/tenacity-4.12.0-py2.py3-none-any.whl\n",
            "Collecting python-daemon==2.2.4\n",
            "  Downloading https://files.pythonhosted.org/packages/5a/0c/57f15b1572661877ff1acbe66c2f5be9d999ae5fb128e22933d374f62aa1/python_daemon-2.2.4-py2.py3-none-any.whl\n",
            "Collecting attrs==19.3.0\n",
            "  Downloading https://files.pythonhosted.org/packages/a2/db/4313ab3be961f7a763066401fb77f7748373b6094076ae2bda2806988af6/attrs-19.3.0-py2.py3-none-any.whl\n",
            "Collecting typing-extensions==3.7.4.2\n",
            "  Downloading https://files.pythonhosted.org/packages/0c/0e/3f026d0645d699e7320b59952146d56ad7c374e9cd72cd16e7c74e657a0f/typing_extensions-3.7.4.2-py3-none-any.whl\n",
            "Collecting funcsigs==1.0.2\n",
            "  Downloading https://files.pythonhosted.org/packages/69/cb/f5be453359271714c01b9bd06126eaf2e368f1fddfff30818754b5ac2328/funcsigs-1.0.2-py2.py3-none-any.whl\n",
            "Collecting json-merge-patch==0.2\n",
            "  Downloading https://files.pythonhosted.org/packages/39/62/3b783faabac9a099877397d8f7a7cc862a03fbf9fb1b90d414ea7c6bb096/json-merge-patch-0.2.tar.gz\n",
            "Collecting Flask-WTF==0.14.3\n",
            "  Downloading https://files.pythonhosted.org/packages/36/a9/8c01171066bd7a524ee005d81bb4a8aa446ab178043a1ad6cb5dc8f0bd83/Flask_WTF-0.14.3-py2.py3-none-any.whl\n",
            "Collecting future==0.18.2\n",
            "\u001b[?25l  Downloading https://files.pythonhosted.org/packages/45/0b/38b06fd9b92dc2b68d58b75f900e97884c45bedd2ff83203d933cf5851c9/future-0.18.2.tar.gz (829kB)\n",
            "\u001b[K     |████████████████████████████████| 829kB 43.0MB/s \n",
            "\u001b[?25hCollecting Werkzeug==0.16.1\n",
            "\u001b[?25l  Downloading https://files.pythonhosted.org/packages/c2/e4/a859d2fe516f466642fa5c6054fd9646271f9da26b0cac0d2f37fc858c8f/Werkzeug-0.16.1-py2.py3-none-any.whl (327kB)\n",
            "\u001b[K     |████████████████████████████████| 327kB 43.0MB/s \n",
            "\u001b[?25hRequirement already satisfied: Pygments==2.6.1 in /usr/local/lib/python3.6/dist-packages (from -c https://raw.githubusercontent.com/apache/airflow/constraints-1.10.12/constraints-3.7.txt (line 25)) (2.6.1)\n",
            "Collecting colorlog==4.0.2\n",
            "  Downloading https://files.pythonhosted.org/packages/68/4d/892728b0c14547224f0ac40884e722a3d00cb54e7a146aea0b3186806c9e/colorlog-4.0.2-py2.py3-none-any.whl\n",
            "Collecting lazy-object-proxy==1.5.1\n",
            "\u001b[?25l  Downloading https://files.pythonhosted.org/packages/ed/7c/f6d5cb5f3d60d340958c8a70fc9ce356c900c7da3efc75ab6a870a90cde9/lazy_object_proxy-1.5.1-cp36-cp36m-manylinux1_x86_64.whl (51kB)\n",
            "\u001b[K     |████████████████████████████████| 61kB 7.2MB/s \n",
            "\u001b[?25hRequirement already satisfied: tabulate==0.8.7 in /usr/local/lib/python3.6/dist-packages (from -c https://raw.githubusercontent.com/apache/airflow/constraints-1.10.12/constraints-3.7.txt (line 302)) (0.8.7)\n",
            "Collecting email-validator==1.1.1\n",
            "  Downloading https://files.pythonhosted.org/packages/8b/f5/26dc56e8e5b3441e766c8c359be9a28d2355902ab8b2140a2d5988da675e/email_validator-1.1.1-py2.py3-none-any.whl\n",
            "Requirement already satisfied: Flask==1.1.2 in /usr/local/lib/python3.6/dist-packages (from -c https://raw.githubusercontent.com/apache/airflow/constraints-1.10.12/constraints-3.7.txt (line 13)) (1.1.2)\n",
            "Collecting Flask-AppBuilder==2.3.4\n",
            "\u001b[?25l  Downloading https://files.pythonhosted.org/packages/e8/3e/52fef38e20829f105c0dd7137aa319530f94449f7dfd1c70c0b2296c917e/Flask_AppBuilder-2.3.4-py3-none-any.whl (1.7MB)\n",
            "\u001b[K     |████████████████████████████████| 1.7MB 36.1MB/s \n",
            "\u001b[?25hCollecting graphviz==0.14.1\n",
            "  Downloading https://files.pythonhosted.org/packages/62/dc/9dd6a6b9b8977248e165e075b109eea6e8eac71faa28ca378c3d98e54fbe/graphviz-0.14.1-py2.py3-none-any.whl\n",
            "Collecting zope.deprecation==4.4.0\n",
            "  Downloading https://files.pythonhosted.org/packages/f9/26/b935bbf9d27e898b87d80e7873a0200cebf239253d0afe7a59f82fe90fff/zope.deprecation-4.4.0-py2.py3-none-any.whl\n",
            "Requirement already satisfied: python-slugify==4.0.1 in /usr/local/lib/python3.6/dist-packages (from -c https://raw.githubusercontent.com/apache/airflow/constraints-1.10.12/constraints-3.7.txt (line 256)) (4.0.1)\n",
            "Requirement already satisfied: tzlocal==1.5.1 in /usr/local/lib/python3.6/dist-packages (from -c https://raw.githubusercontent.com/apache/airflow/constraints-1.10.12/constraints-3.7.txt (line 314)) (1.5.1)\n",
            "Collecting pendulum==1.4.4\n",
            "\u001b[?25l  Downloading https://files.pythonhosted.org/packages/30/47/02f04abed54918d2a3f1da602a8254247670b2e1a99b4b1f02734a27e71e/pendulum-1.4.4-cp36-cp36m-manylinux1_x86_64.whl (123kB)\n",
            "\u001b[K     |████████████████████████████████| 133kB 47.7MB/s \n",
            "\u001b[?25hCollecting cached-property==1.5.1\n",
            "  Downloading https://files.pythonhosted.org/packages/3b/86/85c1be2e8db9e13ef9a350aecd6dea292bd612fa288c2f40d035bb750ded/cached_property-1.5.1-py2.py3-none-any.whl\n",
            "Collecting requests==2.24.0\n",
            "\u001b[?25l  Downloading https://files.pythonhosted.org/packages/45/1e/0c169c6a5381e241ba7404532c16a21d86ab872c9bed8bdcd4c423954103/requests-2.24.0-py2.py3-none-any.whl (61kB)\n",
            "\u001b[K     |████████████████████████████████| 71kB 8.6MB/s \n",
            "\u001b[?25hCollecting SQLAlchemy==1.3.18\n",
            "\u001b[?25l  Downloading https://files.pythonhosted.org/packages/fa/15/d2bae12be77a6c9cde1d183f87216a339e6e8abc0ba4474a0057212574bb/SQLAlchemy-1.3.18-cp36-cp36m-manylinux2010_x86_64.whl (1.2MB)\n",
            "\u001b[K     |████████████████████████████████| 1.2MB 39.3MB/s \n",
            "\u001b[?25hCollecting unicodecsv==0.14.1\n",
            "  Downloading https://files.pythonhosted.org/packages/6f/a4/691ab63b17505a26096608cc309960b5a6bdf39e4ba1a793d5f9b1a53270/unicodecsv-0.14.1.tar.gz\n",
            "Collecting gunicorn==20.0.4\n",
            "\u001b[?25l  Downloading https://files.pythonhosted.org/packages/69/ca/926f7cd3a2014b16870086b2d0fdc84a9e49473c68a8dff8b57f7c156f43/gunicorn-20.0.4-py2.py3-none-any.whl (77kB)\n",
            "\u001b[K     |████████████████████████████████| 81kB 8.6MB/s \n",
            "\u001b[?25hCollecting Flask-Caching==1.3.3\n",
            "  Downloading https://files.pythonhosted.org/packages/88/f1/7bbd68a4d79eb53c33863a17926f14268749b897c8a77ab589f2e9117d47/Flask_Caching-1.3.3-py2.py3-none-any.whl\n",
            "Requirement already satisfied: python-dateutil==2.8.1 in /usr/local/lib/python3.6/dist-packages (from -c https://raw.githubusercontent.com/apache/airflow/constraints-1.10.12/constraints-3.7.txt (line 250)) (2.8.1)\n",
            "Collecting setproctitle==1.1.10\n",
            "  Downloading https://files.pythonhosted.org/packages/5a/0d/dc0d2234aacba6cf1a729964383e3452c52096dc695581248b548786f2b3/setproctitle-1.1.10.tar.gz\n",
            "Collecting cattrs==1.0.0\n",
            "  Downloading https://files.pythonhosted.org/packages/17/5b/6afbdaeb066ecf8ca28d85851048103ac80bb169491a54a14bd39823c422/cattrs-1.0.0-py2.py3-none-any.whl\n",
            "Collecting Flask-Admin==1.5.4\n",
            "\u001b[?25l  Downloading https://files.pythonhosted.org/packages/03/4e/a92e3c5cee3fce68fda877b437ed4657df3a0168091f6d2cab6c94d932e3/Flask-Admin-1.5.4.tar.gz (1.7MB)\n",
            "\u001b[K     |████████████████████████████████| 1.7MB 39.9MB/s \n",
            "\u001b[?25hRequirement already satisfied: Jinja2==2.11.2 in /usr/local/lib/python3.6/dist-packages (from -c https://raw.githubusercontent.com/apache/airflow/constraints-1.10.12/constraints-3.7.txt (line 16)) (2.11.2)\n",
            "Collecting argcomplete==1.12.0\n",
            "  Downloading https://files.pythonhosted.org/packages/89/4d/b8e035cca2c9b2484ac12d20e0fb68019e17f0b09918f2765e0a381127fb/argcomplete-1.12.0-py2.py3-none-any.whl\n",
            "Collecting configparser==3.5.3\n",
            "  Downloading https://files.pythonhosted.org/packages/55/c0/e0206081eaad646c6f5e2dc266edf457110d9031b363518d3264880e675d/configparser-3.5.3-py3-none-any.whl\n",
            "Collecting python-nvd3==0.15.0\n",
            "  Downloading https://files.pythonhosted.org/packages/0b/aa/97165daa6e319409c5c2582e62736a7353bda3c90d90fdcb0b11e116dd2d/python-nvd3-0.15.0.tar.gz\n",
            "Collecting flask-swagger==0.2.14\n",
            "  Downloading https://files.pythonhosted.org/packages/b2/a9/a6c05fbc592ac482bf9557e47957c429d2be8cb8addfbc92853fb862ea8f/flask-swagger-0.2.14.tar.gz\n",
            "Collecting jsonschema==3.2.0\n",
            "\u001b[?25l  Downloading https://files.pythonhosted.org/packages/c5/8f/51e89ce52a085483359217bc72cdbf6e75ee595d5b1d4b5ade40c7e018b8/jsonschema-3.2.0-py2.py3-none-any.whl (56kB)\n",
            "\u001b[K     |████████████████████████████████| 61kB 6.9MB/s \n",
            "\u001b[?25hRequirement already satisfied: dill==0.3.2 in /usr/local/lib/python3.6/dist-packages (from -c https://raw.githubusercontent.com/apache/airflow/constraints-1.10.12/constraints-3.7.txt (line 91)) (0.3.2)\n",
            "Collecting psutil==5.7.2\n",
            "\u001b[?25l  Downloading https://files.pythonhosted.org/packages/aa/3e/d18f2c04cf2b528e18515999b0c8e698c136db78f62df34eee89cee205f1/psutil-5.7.2.tar.gz (460kB)\n",
            "\u001b[K     |████████████████████████████████| 460kB 24.2MB/s \n",
            "\u001b[?25hCollecting pandas==1.1.0\n",
            "\u001b[?25l  Downloading https://files.pythonhosted.org/packages/a7/f7/2adca20a7fa71b6a32f823bbd83992adeceab1d8bf72992bb7a55c69c19a/pandas-1.1.0-cp36-cp36m-manylinux1_x86_64.whl (10.5MB)\n",
            "\u001b[K     |████████████████████████████████| 10.5MB 40.8MB/s \n",
            "\u001b[?25hCollecting SQLAlchemy-JSONField==0.9.0\n",
            "  Downloading https://files.pythonhosted.org/packages/d3/70/f636dd6f9e6bd38e64ba398a24c717af141d9771ccfd79b174b989d5a624/SQLAlchemy_JSONField-0.9.0-py2.py3-none-any.whl\n",
            "Collecting natsort==7.0.1\n",
            "  Downloading https://files.pythonhosted.org/packages/0f/65/81883897f4aaa1e53deaa65137318cfe80b36ce013c2e86f8fd0843cfa02/natsort-7.0.1-py3-none-any.whl\n",
            "Collecting Mako==1.1.3\n",
            "\u001b[?25l  Downloading https://files.pythonhosted.org/packages/a6/37/0e706200d22172eb8fa17d68a7ae22dec7631a0a92266634fb518a88a5b2/Mako-1.1.3-py2.py3-none-any.whl (75kB)\n",
            "\u001b[K     |████████████████████████████████| 81kB 8.1MB/s \n",
            "\u001b[?25hCollecting python-editor==1.0.4\n",
            "  Downloading https://files.pythonhosted.org/packages/c6/d3/201fc3abe391bbae6606e6f1d598c15d367033332bd54352b12f35513717/python_editor-1.0.4-py3-none-any.whl\n",
            "Requirement already satisfied: six==1.15.0 in /usr/local/lib/python3.6/dist-packages (from -c https://raw.githubusercontent.com/apache/airflow/constraints-1.10.12/constraints-3.7.txt (line 280)) (1.15.0)\n",
            "Collecting docutils==0.16\n",
            "\u001b[?25l  Downloading https://files.pythonhosted.org/packages/81/44/8a15e45ffa96e6cf82956dd8d7af9e666357e16b0d93b253903475ee947f/docutils-0.16-py2.py3-none-any.whl (548kB)\n",
            "\u001b[K     |████████████████████████████████| 552kB 44.9MB/s \n",
            "\u001b[?25hCollecting lockfile==0.12.2\n",
            "  Downloading https://files.pythonhosted.org/packages/c8/22/9460e311f340cb62d26a38c419b1381b8593b0bb6b5d1f056938b086d362/lockfile-0.12.2-py2.py3-none-any.whl\n",
            "Requirement already satisfied: setuptools in /usr/local/lib/python3.6/dist-packages (from python-daemon==2.2.4->-c https://raw.githubusercontent.com/apache/airflow/constraints-1.10.12/constraints-3.7.txt (line 249)) (50.3.0)\n",
            "Collecting WTForms==2.3.3\n",
            "\u001b[?25l  Downloading https://files.pythonhosted.org/packages/e0/31/614fc7dc7d76005b0acb8c0c8920d962b83d7422b4ba912886dfb63f86ff/WTForms-2.3.3-py2.py3-none-any.whl (169kB)\n",
            "\u001b[K     |████████████████████████████████| 174kB 39.3MB/s \n",
            "\u001b[?25hRequirement already satisfied: itsdangerous==1.1.0 in /usr/local/lib/python3.6/dist-packages (from -c https://raw.githubusercontent.com/apache/airflow/constraints-1.10.12/constraints-3.7.txt (line 159)) (1.1.0)\n",
            "Collecting dnspython==1.16.0\n",
            "\u001b[?25l  Downloading https://files.pythonhosted.org/packages/ec/d3/3aa0e7213ef72b8585747aa0e271a9523e713813b9a20177ebe1e939deb0/dnspython-1.16.0-py2.py3-none-any.whl (188kB)\n",
            "\u001b[K     |████████████████████████████████| 194kB 41.3MB/s \n",
            "\u001b[?25hRequirement already satisfied: idna==2.10 in /usr/local/lib/python3.6/dist-packages (from -c https://raw.githubusercontent.com/apache/airflow/constraints-1.10.12/constraints-3.7.txt (line 150)) (2.10)\n",
            "Collecting click==6.7\n",
            "\u001b[?25l  Downloading https://files.pythonhosted.org/packages/34/c1/8806f99713ddb993c5366c362b2f908f18269f8d792aff1abfd700775a77/click-6.7-py2.py3-none-any.whl (71kB)\n",
            "\u001b[K     |████████████████████████████████| 71kB 7.1MB/s \n",
            "\u001b[?25hCollecting Flask-OpenID==1.2.5\n",
            "\u001b[?25l  Downloading https://files.pythonhosted.org/packages/d1/a2/9d1fba3287a65f81b9d1c09c4f7cb16f8ea4988b1bc97ffea0d60983338f/Flask-OpenID-1.2.5.tar.gz (43kB)\n",
            "\u001b[K     |████████████████████████████████| 51kB 6.1MB/s \n",
            "\u001b[?25hCollecting colorama==0.4.3\n",
            "  Downloading https://files.pythonhosted.org/packages/c9/dc/45cdef1b4d119eb96316b3117e6d5708a08029992b2fee2c143c7a0a5cc5/colorama-0.4.3-py2.py3-none-any.whl\n",
            "Collecting Flask-JWT-Extended==3.24.1\n",
            "  Downloading https://files.pythonhosted.org/packages/7a/ee/bb1c679b44ebec5c64626d632186d890cd95fffb63c1bded85d979a80724/Flask-JWT-Extended-3.24.1.tar.gz\n",
            "Collecting prison==0.1.3\n",
            "  Downloading https://files.pythonhosted.org/packages/56/3d/10c7dfd83613dadc8388bdef8e8000ccfb2984134050ce9bea6a00c94296/prison-0.1.3-py2.py3-none-any.whl\n",
            "Collecting marshmallow==2.21.0\n",
            "\u001b[?25l  Downloading https://files.pythonhosted.org/packages/8d/5a/c8288b3fa34bfc5afeee56454db7c239b9d2f492c36172dafabf95c780af/marshmallow-2.21.0-py2.py3-none-any.whl (50kB)\n",
            "\u001b[K     |████████████████████████████████| 51kB 5.9MB/s \n",
            "\u001b[?25hCollecting marshmallow-enum==1.5.1\n",
            "  Downloading https://files.pythonhosted.org/packages/c6/59/ef3a3dc499be447098d4a89399beb869f813fee1b5a57d5d79dee2c1bf51/marshmallow_enum-1.5.1-py2.py3-none-any.whl\n",
            "Collecting SQLAlchemy-Utils==0.36.8\n",
            "\u001b[?25l  Downloading https://files.pythonhosted.org/packages/14/68/e5301c4c960c79a32333b8805e52cb69d3d237aa869a773b4157ccb3eb26/SQLAlchemy-Utils-0.36.8.tar.gz (138kB)\n",
            "\u001b[K     |████████████████████████████████| 143kB 35.2MB/s \n",
            "\u001b[?25hCollecting apispec==1.3.3\n",
            "  Downloading https://files.pythonhosted.org/packages/38/7a/20500edb2e77b8a6f6b677ed6a7b6d97b696fcc477374d36d83883462863/apispec-1.3.3-py2.py3-none-any.whl\n",
            "Collecting Flask-SQLAlchemy==2.4.4\n",
            "  Downloading https://files.pythonhosted.org/packages/af/4b/3dd83c3e2c6e3034b804d971952e0120606506f153990cc56d2d33173b72/Flask_SQLAlchemy-2.4.4-py2.py3-none-any.whl\n",
            "Collecting marshmallow-sqlalchemy==0.23.1\n",
            "  Downloading https://files.pythonhosted.org/packages/95/4e/6ac54e42c669d69a578ccad9f7d589ec208ced28975ae44f1c697410b453/marshmallow_sqlalchemy-0.23.1-py2.py3-none-any.whl\n",
            "Collecting PyJWT==1.7.1\n",
            "  Downloading https://files.pythonhosted.org/packages/87/8b/6a9f14b5f781697e51259d81657e6048fd31a113229cf346880bb7545565/PyJWT-1.7.1-py2.py3-none-any.whl\n",
            "Collecting Flask-Babel==1.0.0\n",
            "  Downloading https://files.pythonhosted.org/packages/76/a4/0115c7c520125853037fc1d6b3da132a526949640e27a699a13e05ec7593/Flask_Babel-1.0.0-py3-none-any.whl\n",
            "Requirement already satisfied: text-unidecode==1.3 in /usr/local/lib/python3.6/dist-packages (from -c https://raw.githubusercontent.com/apache/airflow/constraints-1.10.12/constraints-3.7.txt (line 304)) (1.3)\n",
            "Collecting pytz==2020.1\n",
            "\u001b[?25l  Downloading https://files.pythonhosted.org/packages/4f/a4/879454d49688e2fad93e59d7d4efda580b783c745fd2ec2a3adf87b0808d/pytz-2020.1-py2.py3-none-any.whl (510kB)\n",
            "\u001b[K     |████████████████████████████████| 512kB 37.9MB/s \n",
            "\u001b[?25hCollecting pytzdata==2020.1\n",
            "\u001b[?25l  Downloading https://files.pythonhosted.org/packages/e0/4f/4474bda990ee740a020cbc3eb271925ef7daa7c8444240d34ff62c8442a3/pytzdata-2020.1-py2.py3-none-any.whl (489kB)\n",
            "\u001b[K     |████████████████████████████████| 491kB 35.6MB/s \n",
            "\u001b[?25hRequirement already satisfied: chardet==3.0.4 in /usr/local/lib/python3.6/dist-packages (from -c https://raw.githubusercontent.com/apache/airflow/constraints-1.10.12/constraints-3.7.txt (line 78)) (3.0.4)\n",
            "Collecting urllib3==1.25.10\n",
            "\u001b[?25l  Downloading https://files.pythonhosted.org/packages/9f/f0/a391d1463ebb1b233795cabfc0ef38d3db4442339de68f847026199e69d7/urllib3-1.25.10-py2.py3-none-any.whl (127kB)\n",
            "\u001b[K     |████████████████████████████████| 133kB 45.7MB/s \n",
            "\u001b[?25hRequirement already satisfied: certifi==2020.6.20 in /usr/local/lib/python3.6/dist-packages (from -c https://raw.githubusercontent.com/apache/airflow/constraints-1.10.12/constraints-3.7.txt (line 73)) (2020.6.20)\n",
            "Requirement already satisfied: MarkupSafe==1.1.1 in /usr/local/lib/python3.6/dist-packages (from -c https://raw.githubusercontent.com/apache/airflow/constraints-1.10.12/constraints-3.7.txt (line 19)) (1.1.1)\n",
            "Requirement already satisfied: importlib-metadata==1.7.0 in /usr/local/lib/python3.6/dist-packages (from -c https://raw.githubusercontent.com/apache/airflow/constraints-1.10.12/constraints-3.7.txt (line 152)) (1.7.0)\n",
            "Collecting PyYAML==5.3.1\n",
            "\u001b[?25l  Downloading https://files.pythonhosted.org/packages/64/c2/b80047c7ac2478f9501676c988a5411ed5572f35d1beff9cae07d321512c/PyYAML-5.3.1.tar.gz (269kB)\n",
            "\u001b[K     |████████████████████████████████| 276kB 46.6MB/s \n",
            "\u001b[?25hCollecting pyrsistent==0.16.0\n",
            "\u001b[?25l  Downloading https://files.pythonhosted.org/packages/9f/0d/cbca4d0bbc5671822a59f270e4ce3f2195f8a899c97d0d5abb81b191efb5/pyrsistent-0.16.0.tar.gz (108kB)\n",
            "\u001b[K     |████████████████████████████████| 112kB 39.1MB/s \n",
            "\u001b[?25hCollecting numpy==1.19.1\n",
            "\u001b[?25l  Downloading https://files.pythonhosted.org/packages/b1/9a/7d474ba0860a41f771c9523d8c4ea56b084840b5ca4092d96bdee8a3b684/numpy-1.19.1-cp36-cp36m-manylinux2010_x86_64.whl (14.5MB)\n",
            "\u001b[K     |████████████████████████████████| 14.5MB 303kB/s \n",
            "\u001b[?25hCollecting typing>=3.6; python_version < \"3.7\"\n",
            "\u001b[?25l  Downloading https://files.pythonhosted.org/packages/05/d9/6eebe19d46bd05360c9a9aae822e67a80f9242aabbfc58b641b957546607/typing-3.7.4.3.tar.gz (78kB)\n",
            "\u001b[K     |████████████████████████████████| 81kB 7.3MB/s \n",
            "\u001b[?25hCollecting python3-openid==3.2.0\n",
            "\u001b[?25l  Downloading https://files.pythonhosted.org/packages/e0/a5/c6ba13860bdf5525f1ab01e01cc667578d6f1efc8a1dba355700fb04c29b/python3_openid-3.2.0-py3-none-any.whl (133kB)\n",
            "\u001b[K     |████████████████████████████████| 143kB 44.8MB/s \n",
            "\u001b[?25hRequirement already satisfied: Babel==2.8.0 in /usr/local/lib/python3.6/dist-packages (from -c https://raw.githubusercontent.com/apache/airflow/constraints-1.10.12/constraints-3.7.txt (line 2)) (2.8.0)\n",
            "Requirement already satisfied: zipp==3.1.0 in /usr/local/lib/python3.6/dist-packages (from -c https://raw.githubusercontent.com/apache/airflow/constraints-1.10.12/constraints-3.7.txt (line 327)) (3.1.0)\n",
            "Requirement already satisfied: defusedxml==0.6.0 in /usr/local/lib/python3.6/dist-packages (from -c https://raw.githubusercontent.com/apache/airflow/constraints-1.10.12/constraints-3.7.txt (line 90)) (0.6.0)\n",
            "Building wheels for collected packages: alembic\n",
            "  Building wheel for alembic (PEP 517) ... \u001b[?25l\u001b[?25hdone\n",
            "  Created wheel for alembic: filename=alembic-1.4.2-cp36-none-any.whl size=159540 sha256=32d957f2eec10b812b072f5862cc85a1f62f1d0d9b691f5b03210850deb60c87\n",
            "  Stored in directory: /root/.cache/pip/wheels/1f/04/83/76023f7a4c14688c0b5c2682a96392cfdd3ee4449eaaa287ef\n",
            "Successfully built alembic\n",
            "Building wheels for collected packages: Flask-Admin, Flask-JWT-Extended, Flask-Login, Flask-OpenID, PyYAML, SQLAlchemy-Utils, flask-swagger, future, json-merge-patch, psutil, pyrsistent, python-nvd3, setproctitle, thrift, unicodecsv, typing\n",
            "  Building wheel for Flask-Admin (setup.py) ... \u001b[?25l\u001b[?25hdone\n",
            "  Created wheel for Flask-Admin: filename=Flask_Admin-1.5.4-cp36-none-any.whl size=1865026 sha256=6664127349d4929d62ade083070fb567246bfa09d2f0fc1482ca47d07b5f2f50\n",
            "  Stored in directory: /root/.cache/pip/wheels/aa/a9/45/4afaf63921359a76043fb41ff780c5baae34441417bf3daa4a\n",
            "  Building wheel for Flask-JWT-Extended (setup.py) ... \u001b[?25l\u001b[?25hdone\n",
            "  Created wheel for Flask-JWT-Extended: filename=Flask_JWT_Extended-3.24.1-py2.py3-none-any.whl size=21511 sha256=521f7317b458560ce2da323da3bb3b35c25f72c21a271c1274a31a1651245b61\n",
            "  Stored in directory: /root/.cache/pip/wheels/d4/8f/d0/e3c62af58d89cbd80847eea2323da4af633993ca71f5c3ba85\n",
            "  Building wheel for Flask-Login (setup.py) ... \u001b[?25l\u001b[?25hdone\n",
            "  Created wheel for Flask-Login: filename=Flask_Login-0.4.1-py2.py3-none-any.whl size=15934 sha256=10f40e4b5d0025fa640d5fa5e9f148a95cac98327ff44c3ff538dc65913327c9\n",
            "  Stored in directory: /root/.cache/pip/wheels/39/10/74/d68194e28d5f7a83de5f66e5b2deff5ccbb424fe45e6b0e927\n",
            "  Building wheel for Flask-OpenID (setup.py) ... \u001b[?25l\u001b[?25hdone\n",
            "  Created wheel for Flask-OpenID: filename=Flask_OpenID-1.2.5-cp36-none-any.whl size=9121 sha256=0cfbc19795dd099b3be732b2891bbcb83bae10cb9893c55f7382aea53e9024eb\n",
            "  Stored in directory: /root/.cache/pip/wheels/3b/1e/c0/b941aa1a5954f1acabbf1671a64e27adc359c0b0e74b16f8b4\n",
            "  Building wheel for PyYAML (setup.py) ... \u001b[?25l\u001b[?25hdone\n",
            "  Created wheel for PyYAML: filename=PyYAML-5.3.1-cp36-cp36m-linux_x86_64.whl size=44619 sha256=9022d6f937fb6210ee440751ab7ec4ce190ff2df9726aa6ed4bfd5c2ea40a03e\n",
            "  Stored in directory: /root/.cache/pip/wheels/a7/c1/ea/cf5bd31012e735dc1dfea3131a2d5eae7978b251083d6247bd\n",
            "  Building wheel for SQLAlchemy-Utils (setup.py) ... \u001b[?25l\u001b[?25hdone\n",
            "  Created wheel for SQLAlchemy-Utils: filename=SQLAlchemy_Utils-0.36.8-py2.py3-none-any.whl size=93219 sha256=597ff46cc06b50e505ffa4896b54994d8931b51da36d01cfdfe90bace3092f10\n",
            "  Stored in directory: /root/.cache/pip/wheels/68/31/b6/a96bf6868f42753696d647846c9a0f8e51bd99295790d07660\n",
            "  Building wheel for flask-swagger (setup.py) ... \u001b[?25l\u001b[?25hdone\n",
            "  Created wheel for flask-swagger: filename=flask_swagger-0.2.14-cp36-none-any.whl size=7268 sha256=685b5904d496743975985dd7c1ace0bafb652dc3e0c3fb5f86dbf0580c50e176\n",
            "  Stored in directory: /root/.cache/pip/wheels/e1/fd/ac/7ccbef30573f270063e1f9cbe80d2317715fcbdb215373b917\n",
            "  Building wheel for future (setup.py) ... \u001b[?25l\u001b[?25hdone\n",
            "  Created wheel for future: filename=future-0.18.2-cp36-none-any.whl size=491057 sha256=8a7faf3da536da39027119093a6a338df125eb09f570f2b3a4d665041f9a4504\n",
            "  Stored in directory: /root/.cache/pip/wheels/8b/99/a0/81daf51dcd359a9377b110a8a886b3895921802d2fc1b2397e\n",
            "  Building wheel for json-merge-patch (setup.py) ... \u001b[?25l\u001b[?25hdone\n",
            "  Created wheel for json-merge-patch: filename=json_merge_patch-0.2-cp36-none-any.whl size=4393 sha256=496ad7d17182c909d2a394b4a1c81b265816a9b903249ec8ec93a5ad2d44ff9b\n",
            "  Stored in directory: /root/.cache/pip/wheels/68/87/a4/14d13a1e45fc800f5d73256bb8444c503c3132df4b9b1c50f9\n",
            "  Building wheel for psutil (setup.py) ... \u001b[?25l\u001b[?25hdone\n",
            "  Created wheel for psutil: filename=psutil-5.7.2-cp36-cp36m-linux_x86_64.whl size=279884 sha256=9a61e76ac9ce1699b42eb3555a0533fac30600cf27ac9f55b820c4f9bcf9315b\n",
            "  Stored in directory: /root/.cache/pip/wheels/39/a0/f5/c4fa280463e29aea07797acb5312358fefb067c1f4f98e11b1\n",
            "  Building wheel for pyrsistent (setup.py) ... \u001b[?25l\u001b[?25hdone\n",
            "  Created wheel for pyrsistent: filename=pyrsistent-0.16.0-cp36-cp36m-linux_x86_64.whl size=97739 sha256=6f4e761b3b64510454154b21af5d3fae663b6d05b942bdafd31c2b4e105569e1\n",
            "  Stored in directory: /root/.cache/pip/wheels/c2/85/ad/bc6d41e2c4b35c9fdfed48f0fcd411ffc4164e67755ddf9ebb\n",
            "  Building wheel for python-nvd3 (setup.py) ... \u001b[?25l\u001b[?25hdone\n",
            "  Created wheel for python-nvd3: filename=python_nvd3-0.15.0-cp36-none-any.whl size=38156 sha256=87a2396b153dc47f37e88e2cbafc1cbfb8af77e9478b3afc9a0e7d72016cd945\n",
            "  Stored in directory: /root/.cache/pip/wheels/88/62/32/46f3425abe3505837e6345f7225201b5eb928c0991c99f5e47\n",
            "  Building wheel for setproctitle (setup.py) ... \u001b[?25l\u001b[?25hdone\n",
            "  Created wheel for setproctitle: filename=setproctitle-1.1.10-cp36-cp36m-linux_x86_64.whl size=33911 sha256=0820e5aa6641c9b0ebb50875b85ff6c2400d91e46644ef1b799c1bd5d23c2681\n",
            "  Stored in directory: /root/.cache/pip/wheels/e6/b1/a6/9719530228e258eba904501fef99d5d85c80d52bd8f14438a3\n",
            "  Building wheel for thrift (setup.py) ... \u001b[?25l\u001b[?25hdone\n",
            "  Created wheel for thrift: filename=thrift-0.13.0-cp36-cp36m-linux_x86_64.whl size=345223 sha256=1003485b7d570d1931650e265233319bc5aae008c2c72e02eb48d46b28de3d5b\n",
            "  Stored in directory: /root/.cache/pip/wheels/02/a2/46/689ccfcf40155c23edc7cdbd9de488611c8fdf49ff34b1706e\n",
            "  Building wheel for unicodecsv (setup.py) ... \u001b[?25l\u001b[?25hdone\n",
            "  Created wheel for unicodecsv: filename=unicodecsv-0.14.1-cp36-none-any.whl size=10769 sha256=ffa7c5ac1967a17b2e48a72dbab3633ccb85ffbb4963691723e023d097cc478c\n",
            "  Stored in directory: /root/.cache/pip/wheels/a6/09/e9/e800279c98a0a8c94543f3de6c8a562f60e51363ed26e71283\n",
            "  Building wheel for typing (setup.py) ... \u001b[?25l\u001b[?25hdone\n",
            "  Created wheel for typing: filename=typing-3.7.4.3-cp36-none-any.whl size=26307 sha256=da422bc7275a03fdff74ba0ba2f9d2f716240d837adedae56219f5783165bee7\n",
            "  Stored in directory: /root/.cache/pip/wheels/2d/04/41/8e1836e79581989c22eebac3f4e70aaac9af07b0908da173be\n",
            "Successfully built Flask-Admin Flask-JWT-Extended Flask-Login Flask-OpenID PyYAML SQLAlchemy-Utils flask-swagger future json-merge-patch psutil pyrsistent python-nvd3 setproctitle thrift unicodecsv typing\n",
            "\u001b[31mERROR: uvicorn 0.11.8 has requirement click==7.*, but you'll have click 6.7 which is incompatible.\u001b[0m\n",
            "\u001b[31mERROR: tensorflow 2.3.0 has requirement numpy<1.19.0,>=1.16.0, but you'll have numpy 1.19.1 which is incompatible.\u001b[0m\n",
            "\u001b[31mERROR: pip-tools 4.5.1 has requirement click>=7, but you'll have click 6.7 which is incompatible.\u001b[0m\n",
            "\u001b[31mERROR: nbclient 0.5.0 has requirement jupyter-client>=6.1.5, but you'll have jupyter-client 5.3.5 which is incompatible.\u001b[0m\n",
            "\u001b[31mERROR: kaggle 1.5.8 has requirement urllib3<1.25,>=1.21.1, but you'll have urllib3 1.25.10 which is incompatible.\u001b[0m\n",
            "\u001b[31mERROR: google-colab 1.0.0 has requirement pandas~=1.0.0; python_version >= \"3.0\", but you'll have pandas 1.1.0 which is incompatible.\u001b[0m\n",
            "\u001b[31mERROR: google-colab 1.0.0 has requirement requests~=2.23.0, but you'll have requests 2.24.0 which is incompatible.\u001b[0m\n",
            "\u001b[31mERROR: datascience 0.10.6 has requirement folium==0.2.1, but you'll have folium 0.8.3 which is incompatible.\u001b[0m\n",
            "\u001b[31mERROR: botocore 1.17.63 has requirement docutils<0.16,>=0.10, but you'll have docutils 0.16 which is incompatible.\u001b[0m\n",
            "\u001b[31mERROR: albumentations 0.1.12 has requirement imgaug<0.2.7,>=0.2.5, but you'll have imgaug 0.2.9 which is incompatible.\u001b[0m\n",
            "Installing collected packages: WTForms, Flask-Admin, python3-openid, Flask-OpenID, colorama, Werkzeug, PyJWT, Flask-JWT-Extended, prison, marshmallow, click, Flask-Login, pyrsistent, attrs, jsonschema, marshmallow-enum, SQLAlchemy, SQLAlchemy-Utils, PyYAML, apispec, Flask-SQLAlchemy, marshmallow-sqlalchemy, dnspython, email-validator, Flask-WTF, pytz, Flask-Babel, Flask-AppBuilder, Flask-Caching, Mako, Markdown, typing, SQLAlchemy-JSONField, python-editor, alembic, argcomplete, cached-property, cattrs, colorlog, configparser, natsort, croniter, docutils, flask-swagger, funcsigs, future, graphviz, gunicorn, iso8601, json-merge-patch, lazy-object-proxy, lockfile, numpy, pandas, pytzdata, pendulum, psutil, python-daemon, python-nvd3, urllib3, requests, setproctitle, tenacity, thrift, typing-extensions, unicodecsv, zope.deprecation, apache-airflow\n",
            "  Found existing installation: Werkzeug 1.0.1\n",
            "    Uninstalling Werkzeug-1.0.1:\n",
            "      Successfully uninstalled Werkzeug-1.0.1\n",
            "  Found existing installation: click 7.1.2\n",
            "    Uninstalling click-7.1.2:\n",
            "      Successfully uninstalled click-7.1.2\n",
            "  Found existing installation: pyrsistent 0.17.3\n",
            "    Uninstalling pyrsistent-0.17.3:\n",
            "      Successfully uninstalled pyrsistent-0.17.3\n",
            "  Found existing installation: attrs 20.2.0\n",
            "    Uninstalling attrs-20.2.0:\n",
            "      Successfully uninstalled attrs-20.2.0\n",
            "  Found existing installation: jsonschema 2.6.0\n",
            "    Uninstalling jsonschema-2.6.0:\n",
            "      Successfully uninstalled jsonschema-2.6.0\n",
            "  Found existing installation: SQLAlchemy 1.3.19\n",
            "    Uninstalling SQLAlchemy-1.3.19:\n",
            "      Successfully uninstalled SQLAlchemy-1.3.19\n",
            "  Found existing installation: PyYAML 3.13\n",
            "    Uninstalling PyYAML-3.13:\n",
            "      Successfully uninstalled PyYAML-3.13\n",
            "  Found existing installation: pytz 2018.9\n",
            "    Uninstalling pytz-2018.9:\n",
            "      Successfully uninstalled pytz-2018.9\n",
            "  Found existing installation: Markdown 3.2.2\n",
            "    Uninstalling Markdown-3.2.2:\n",
            "      Successfully uninstalled Markdown-3.2.2\n",
            "  Found existing installation: natsort 5.5.0\n",
            "    Uninstalling natsort-5.5.0:\n",
            "      Successfully uninstalled natsort-5.5.0\n",
            "  Found existing installation: docutils 0.15.2\n",
            "    Uninstalling docutils-0.15.2:\n",
            "      Successfully uninstalled docutils-0.15.2\n",
            "  Found existing installation: future 0.16.0\n",
            "    Uninstalling future-0.16.0:\n",
            "      Successfully uninstalled future-0.16.0\n",
            "  Found existing installation: graphviz 0.10.1\n",
            "    Uninstalling graphviz-0.10.1:\n",
            "      Successfully uninstalled graphviz-0.10.1\n",
            "  Found existing installation: numpy 1.18.5\n",
            "    Uninstalling numpy-1.18.5:\n",
            "      Successfully uninstalled numpy-1.18.5\n",
            "  Found existing installation: pandas 1.0.5\n",
            "    Uninstalling pandas-1.0.5:\n",
            "      Successfully uninstalled pandas-1.0.5\n",
            "  Found existing installation: psutil 5.4.8\n",
            "    Uninstalling psutil-5.4.8:\n",
            "      Successfully uninstalled psutil-5.4.8\n",
            "  Found existing installation: urllib3 1.24.3\n",
            "    Uninstalling urllib3-1.24.3:\n",
            "      Successfully uninstalled urllib3-1.24.3\n",
            "  Found existing installation: requests 2.23.0\n",
            "    Uninstalling requests-2.23.0:\n",
            "      Successfully uninstalled requests-2.23.0\n",
            "  Found existing installation: typing-extensions 3.7.4.3\n",
            "    Uninstalling typing-extensions-3.7.4.3:\n",
            "      Successfully uninstalled typing-extensions-3.7.4.3\n",
            "Successfully installed Flask-Admin-1.5.4 Flask-AppBuilder-2.3.4 Flask-Babel-1.0.0 Flask-Caching-1.3.3 Flask-JWT-Extended-3.24.1 Flask-Login-0.4.1 Flask-OpenID-1.2.5 Flask-SQLAlchemy-2.4.4 Flask-WTF-0.14.3 Mako-1.1.3 Markdown-2.6.11 PyJWT-1.7.1 PyYAML-5.3.1 SQLAlchemy-1.3.18 SQLAlchemy-JSONField-0.9.0 SQLAlchemy-Utils-0.36.8 WTForms-2.3.3 Werkzeug-0.16.1 alembic-1.4.2 apache-airflow-1.10.12 apispec-1.3.3 argcomplete-1.12.0 attrs-19.3.0 cached-property-1.5.1 cattrs-1.0.0 click-6.7 colorama-0.4.3 colorlog-4.0.2 configparser-3.5.3 croniter-0.3.34 dnspython-1.16.0 docutils-0.16 email-validator-1.1.1 flask-swagger-0.2.14 funcsigs-1.0.2 future-0.18.2 graphviz-0.14.1 gunicorn-20.0.4 iso8601-0.1.12 json-merge-patch-0.2 jsonschema-3.2.0 lazy-object-proxy-1.5.1 lockfile-0.12.2 marshmallow-2.21.0 marshmallow-enum-1.5.1 marshmallow-sqlalchemy-0.23.1 natsort-7.0.1 numpy-1.19.1 pandas-1.1.0 pendulum-1.4.4 prison-0.1.3 psutil-5.7.2 pyrsistent-0.16.0 python-daemon-2.2.4 python-editor-1.0.4 python-nvd3-0.15.0 python3-openid-3.2.0 pytz-2020.1 pytzdata-2020.1 requests-2.24.0 setproctitle-1.1.10 tenacity-4.12.0 thrift-0.13.0 typing-3.7.4.3 typing-extensions-3.7.4.2 unicodecsv-0.14.1 urllib3-1.25.10 zope.deprecation-4.4.0\n"
          ],
          "name": "stdout"
        },
        {
          "output_type": "display_data",
          "data": {
            "application/vnd.colab-display-data+json": {
              "pip_warning": {
                "packages": [
                  "click",
                  "future",
                  "jsonschema",
                  "numpy",
                  "pandas",
                  "pytz",
                  "requests",
                  "typing",
                  "typing_extensions",
                  "urllib3",
                  "yaml"
                ]
              }
            }
          },
          "metadata": {
            "tags": []
          }
        }
      ]
    },
    {
      "cell_type": "code",
      "metadata": {
        "id": "7BuRwlTo2bOk",
        "colab_type": "code",
        "colab": {
          "base_uri": "https://localhost:8080/",
          "height": 1000
        },
        "outputId": "bfb68bda-6be6-47f5-e5c4-1ab9501f891f"
      },
      "source": [
        "!airflow initdb"
      ],
      "execution_count": 52,
      "outputs": [
        {
          "output_type": "stream",
          "text": [
            "/usr/local/lib/python3.6/dist-packages/psycopg2/__init__.py:144: UserWarning: The psycopg2 wheel package will be renamed from release 2.8; in order to keep installing from binary please use \"pip install psycopg2-binary\" instead. For details see: <http://initd.org/psycopg/docs/install.html#binary-install-from-pypi>.\n",
            "  \"\"\")\n",
            "DB: sqlite:////root/airflow/airflow.db\n",
            "[\u001b[34m2020-09-25 11:08:37,735\u001b[0m] {\u001b[34mdb.py:\u001b[0m378} INFO\u001b[0m - Creating tables\u001b[0m\n",
            "INFO  [alembic.runtime.migration] Context impl SQLiteImpl.\n",
            "INFO  [alembic.runtime.migration] Will assume non-transactional DDL.\n",
            "INFO  [alembic.runtime.migration] Running upgrade  -> e3a246e0dc1, current schema\n",
            "INFO  [alembic.runtime.migration] Running upgrade e3a246e0dc1 -> 1507a7289a2f, create is_encrypted\n",
            "/usr/local/lib/python3.6/dist-packages/alembic/ddl/sqlite.py:41: UserWarning: Skipping unsupported ALTER for creation of implicit constraintPlease refer to the batch mode feature which allows for SQLite migrations using a copy-and-move strategy.\n",
            "  \"Skipping unsupported ALTER for \"\n",
            "INFO  [alembic.runtime.migration] Running upgrade 1507a7289a2f -> 13eb55f81627, maintain history for compatibility with earlier migrations\n",
            "INFO  [alembic.runtime.migration] Running upgrade 13eb55f81627 -> 338e90f54d61, More logging into task_instance\n",
            "INFO  [alembic.runtime.migration] Running upgrade 338e90f54d61 -> 52d714495f0, job_id indices\n",
            "INFO  [alembic.runtime.migration] Running upgrade 52d714495f0 -> 502898887f84, Adding extra to Log\n",
            "INFO  [alembic.runtime.migration] Running upgrade 502898887f84 -> 1b38cef5b76e, add dagrun\n",
            "INFO  [alembic.runtime.migration] Running upgrade 1b38cef5b76e -> 2e541a1dcfed, task_duration\n",
            "INFO  [alembic.runtime.migration] Running upgrade 2e541a1dcfed -> 40e67319e3a9, dagrun_config\n",
            "INFO  [alembic.runtime.migration] Running upgrade 40e67319e3a9 -> 561833c1c74b, add password column to user\n",
            "INFO  [alembic.runtime.migration] Running upgrade 561833c1c74b -> 4446e08588, dagrun start end\n",
            "INFO  [alembic.runtime.migration] Running upgrade 4446e08588 -> bbc73705a13e, Add notification_sent column to sla_miss\n",
            "INFO  [alembic.runtime.migration] Running upgrade bbc73705a13e -> bba5a7cfc896, Add a column to track the encryption state of the 'Extra' field in connection\n",
            "INFO  [alembic.runtime.migration] Running upgrade bba5a7cfc896 -> 1968acfc09e3, add is_encrypted column to variable table\n",
            "INFO  [alembic.runtime.migration] Running upgrade 1968acfc09e3 -> 2e82aab8ef20, rename user table\n",
            "INFO  [alembic.runtime.migration] Running upgrade 2e82aab8ef20 -> 211e584da130, add TI state index\n",
            "INFO  [alembic.runtime.migration] Running upgrade 211e584da130 -> 64de9cddf6c9, add task fails journal table\n",
            "INFO  [alembic.runtime.migration] Running upgrade 64de9cddf6c9 -> f2ca10b85618, add dag_stats table\n",
            "INFO  [alembic.runtime.migration] Running upgrade f2ca10b85618 -> 4addfa1236f1, Add fractional seconds to mysql tables\n",
            "INFO  [alembic.runtime.migration] Running upgrade 4addfa1236f1 -> 8504051e801b, xcom dag task indices\n",
            "INFO  [alembic.runtime.migration] Running upgrade 8504051e801b -> 5e7d17757c7a, add pid field to TaskInstance\n",
            "INFO  [alembic.runtime.migration] Running upgrade 5e7d17757c7a -> 127d2bf2dfa7, Add dag_id/state index on dag_run table\n",
            "INFO  [alembic.runtime.migration] Running upgrade 127d2bf2dfa7 -> cc1e65623dc7, add max tries column to task instance\n",
            "INFO  [alembic.runtime.migration] Running upgrade cc1e65623dc7 -> bdaa763e6c56, Make xcom value column a large binary\n",
            "INFO  [alembic.runtime.migration] Running upgrade bdaa763e6c56 -> 947454bf1dff, add ti job_id index\n",
            "INFO  [alembic.runtime.migration] Running upgrade 947454bf1dff -> d2ae31099d61, Increase text size for MySQL (not relevant for other DBs' text types)\n",
            "INFO  [alembic.runtime.migration] Running upgrade d2ae31099d61 -> 0e2a74e0fc9f, Add time zone awareness\n",
            "INFO  [alembic.runtime.migration] Running upgrade d2ae31099d61 -> 33ae817a1ff4, kubernetes_resource_checkpointing\n",
            "INFO  [alembic.runtime.migration] Running upgrade 33ae817a1ff4 -> 27c6a30d7c24, kubernetes_resource_checkpointing\n",
            "INFO  [alembic.runtime.migration] Running upgrade 27c6a30d7c24 -> 86770d1215c0, add kubernetes scheduler uniqueness\n",
            "INFO  [alembic.runtime.migration] Running upgrade 86770d1215c0, 0e2a74e0fc9f -> 05f30312d566, merge heads\n",
            "INFO  [alembic.runtime.migration] Running upgrade 05f30312d566 -> f23433877c24, fix mysql not null constraint\n",
            "INFO  [alembic.runtime.migration] Running upgrade f23433877c24 -> 856955da8476, fix sqlite foreign key\n",
            "INFO  [alembic.runtime.migration] Running upgrade 856955da8476 -> 9635ae0956e7, index-faskfail\n",
            "INFO  [alembic.runtime.migration] Running upgrade 9635ae0956e7 -> dd25f486b8ea, add idx_log_dag\n",
            "INFO  [alembic.runtime.migration] Running upgrade dd25f486b8ea -> bf00311e1990, add index to taskinstance\n",
            "INFO  [alembic.runtime.migration] Running upgrade 9635ae0956e7 -> 0a2a5b66e19d, add task_reschedule table\n",
            "INFO  [alembic.runtime.migration] Running upgrade 0a2a5b66e19d, bf00311e1990 -> 03bc53e68815, merge_heads_2\n",
            "INFO  [alembic.runtime.migration] Running upgrade 03bc53e68815 -> 41f5f12752f8, add superuser field\n",
            "INFO  [alembic.runtime.migration] Running upgrade 41f5f12752f8 -> c8ffec048a3b, add fields to dag\n",
            "INFO  [alembic.runtime.migration] Running upgrade c8ffec048a3b -> dd4ecb8fbee3, Add schedule interval to dag\n",
            "INFO  [alembic.runtime.migration] Running upgrade dd4ecb8fbee3 -> 939bb1e647c8, task reschedule fk on cascade delete\n",
            "INFO  [alembic.runtime.migration] Running upgrade 939bb1e647c8 -> 6e96a59344a4, Make TaskInstance.pool not nullable\n",
            "INFO  [alembic.runtime.migration] Running upgrade 6e96a59344a4 -> d38e04c12aa2, add serialized_dag table\n",
            "Revision ID: d38e04c12aa2\n",
            "Revises: 6e96a59344a4\n",
            "Create Date: 2019-08-01 14:39:35.616417\n",
            "INFO  [alembic.runtime.migration] Running upgrade d38e04c12aa2 -> b3b105409875, add root_dag_id to DAG\n",
            "INFO  [alembic.runtime.migration] Running upgrade 6e96a59344a4 -> 74effc47d867, change datetime to datetime2(6) on MSSQL tables\n",
            "INFO  [alembic.runtime.migration] Running upgrade 939bb1e647c8 -> 004c1210f153, increase queue name size limit\n",
            "INFO  [alembic.runtime.migration] Running upgrade c8ffec048a3b -> a56c9515abdc, Remove dag_stat table\n",
            "INFO  [alembic.runtime.migration] Running upgrade a56c9515abdc, 004c1210f153, 74effc47d867, b3b105409875 -> 08364691d074, Merge the four heads back together\n",
            "INFO  [alembic.runtime.migration] Running upgrade 08364691d074 -> fe461863935f, increase_length_for_connection_password\n",
            "INFO  [alembic.runtime.migration] Running upgrade fe461863935f -> 7939bcff74ba, Add DagTags table\n",
            "INFO  [alembic.runtime.migration] Running upgrade 7939bcff74ba -> a4c2fd67d16b, add pool_slots field to task_instance\n",
            "INFO  [alembic.runtime.migration] Running upgrade a4c2fd67d16b -> 852ae6c715af, Add RenderedTaskInstanceFields table\n",
            "INFO  [alembic.runtime.migration] Running upgrade 852ae6c715af -> 952da73b5eff, add dag_code table\n",
            "INFO  [alembic.runtime.migration] Running upgrade 952da73b5eff -> a66efa278eea, Add Precision to execution_date in RenderedTaskInstanceFields table\n",
            "INFO  [alembic.runtime.migration] Running upgrade a66efa278eea -> da3f683c3a5a, Add dag_hash Column to serialized_dag table\n",
            "WARNI [airflow.models.crypto] cryptography not found - values will not be stored encrypted.\n",
            "Done.\n",
            "\u001b[0m"
          ],
          "name": "stdout"
        }
      ]
    },
    {
      "cell_type": "markdown",
      "metadata": {
        "id": "ZzFGbSYeDUMu",
        "colab_type": "text"
      },
      "source": [
        "**Use the output of this command as the link to your app.**"
      ]
    },
    {
      "cell_type": "code",
      "metadata": {
        "id": "AHEY2DKQ9PJE",
        "colab_type": "code",
        "colab": {
          "base_uri": "https://localhost:8080/",
          "height": 68
        },
        "outputId": "3e3c095a-5ddb-4036-eb07-5f596e3ab5c3"
      },
      "source": [
        "# If it says \"list index out of range\" just run it again\n",
        "get_ipython().system_raw('./ngrok http 8501 &')\n",
        "!curl -s http://localhost:4040/api/tunnels | python3 -c \\\n",
        "    \"import sys, json; print(json.load(sys.stdin)['tunnels'][0]['public_url'])\""
      ],
      "execution_count": 73,
      "outputs": [
        {
          "output_type": "stream",
          "text": [
            "Traceback (most recent call last):\n",
            "  File \"<string>\", line 1, in <module>\n",
            "IndexError: list index out of range\n"
          ],
          "name": "stdout"
        }
      ]
    },
    {
      "cell_type": "code",
      "metadata": {
        "id": "FIMGAaOF4_HI",
        "colab_type": "code",
        "colab": {
          "base_uri": "https://localhost:8080/",
          "height": 1000
        },
        "outputId": "2a2ffdaa-c97b-4967-b98d-818d21b66456"
      },
      "source": [
        "!airflow webserver -p 8501"
      ],
      "execution_count": 72,
      "outputs": [
        {
          "output_type": "stream",
          "text": [
            "/usr/local/lib/python3.6/dist-packages/psycopg2/__init__.py:144: UserWarning: The psycopg2 wheel package will be renamed from release 2.8; in order to keep installing from binary please use \"pip install psycopg2-binary\" instead. For details see: <http://initd.org/psycopg/docs/install.html#binary-install-from-pypi>.\n",
            "  \"\"\")\n",
            "  ____________       _____________\n",
            " ____    |__( )_________  __/__  /________      __\n",
            "____  /| |_  /__  ___/_  /_ __  /_  __ \\_ | /| / /\n",
            "___  ___ |  / _  /   _  __/ _  / / /_/ /_ |/ |/ /\n",
            " _/_/  |_/_/  /_/    /_/    /_/  \\____/____/|__/\n",
            "[\u001b[34m2020-09-25 11:35:42,943\u001b[0m] {\u001b[34m__init__.py:\u001b[0m50} INFO\u001b[0m - Using executor \u001b[01mSequentialExecutor\u001b[22m\u001b[0m\n",
            "[\u001b[34m2020-09-25 11:35:42,944\u001b[0m] {\u001b[34mdagbag.py:\u001b[0m417} INFO\u001b[0m - Filling up the DagBag from \u001b[01m/root/airflow/dags\u001b[22m\u001b[0m\n",
            "Running the Gunicorn Server with:\n",
            "Workers: 4 sync\n",
            "Host: 0.0.0.0:8501\n",
            "Timeout: 120\n",
            "Logfiles: - -\n",
            "=================================================================            \n",
            "[2020-09-25 11:35:44 +0000] [1644] [INFO] Starting gunicorn 20.0.4\n",
            "[2020-09-25 11:35:44 +0000] [1644] [INFO] Listening at: http://0.0.0.0:8501 (1644)\n",
            "[2020-09-25 11:35:44 +0000] [1644] [INFO] Using worker: sync\n",
            "[2020-09-25 11:35:44 +0000] [1648] [INFO] Booting worker with pid: 1648\n",
            "[2020-09-25 11:35:44 +0000] [1649] [INFO] Booting worker with pid: 1649\n",
            "[2020-09-25 11:35:44 +0000] [1650] [INFO] Booting worker with pid: 1650\n",
            "[2020-09-25 11:35:44 +0000] [1651] [INFO] Booting worker with pid: 1651\n",
            "/usr/local/lib/python3.6/dist-packages/psycopg2/__init__.py:144: UserWarning: The psycopg2 wheel package will be renamed from release 2.8; in order to keep installing from binary please use \"pip install psycopg2-binary\" instead. For details see: <http://initd.org/psycopg/docs/install.html#binary-install-from-pypi>.\n",
            "  \"\"\")\n",
            "/usr/local/lib/python3.6/dist-packages/psycopg2/__init__.py:144: UserWarning: The psycopg2 wheel package will be renamed from release 2.8; in order to keep installing from binary please use \"pip install psycopg2-binary\" instead. For details see: <http://initd.org/psycopg/docs/install.html#binary-install-from-pypi>.\n",
            "  \"\"\")\n",
            "/usr/local/lib/python3.6/dist-packages/psycopg2/__init__.py:144: UserWarning: The psycopg2 wheel package will be renamed from release 2.8; in order to keep installing from binary please use \"pip install psycopg2-binary\" instead. For details see: <http://initd.org/psycopg/docs/install.html#binary-install-from-pypi>.\n",
            "  \"\"\")\n",
            "/usr/local/lib/python3.6/dist-packages/psycopg2/__init__.py:144: UserWarning: The psycopg2 wheel package will be renamed from release 2.8; in order to keep installing from binary please use \"pip install psycopg2-binary\" instead. For details see: <http://initd.org/psycopg/docs/install.html#binary-install-from-pypi>.\n",
            "  \"\"\")\n",
            "[\u001b[34m2020-09-25 11:35:45,479\u001b[0m] {\u001b[34m__init__.py:\u001b[0m50} INFO\u001b[0m - Using executor \u001b[01mSequentialExecutor\u001b[22m\u001b[0m\n",
            "[\u001b[34m2020-09-25 11:35:45,481\u001b[0m] {\u001b[34mdagbag.py:\u001b[0m417} INFO\u001b[0m - Filling up the DagBag from \u001b[01m/root/airflow/dags\u001b[22m\u001b[0m\n",
            "[\u001b[34m2020-09-25 11:35:45,481\u001b[0m] {\u001b[34m__init__.py:\u001b[0m50} INFO\u001b[0m - Using executor \u001b[01mSequentialExecutor\u001b[22m\u001b[0m\n",
            "[\u001b[34m2020-09-25 11:35:45,488\u001b[0m] {\u001b[34mdagbag.py:\u001b[0m417} INFO\u001b[0m - Filling up the DagBag from \u001b[01m/root/airflow/dags\u001b[22m\u001b[0m\n",
            "[\u001b[34m2020-09-25 11:35:45,658\u001b[0m] {\u001b[34m__init__.py:\u001b[0m50} INFO\u001b[0m - Using executor \u001b[01mSequentialExecutor\u001b[22m\u001b[0m\n",
            "[\u001b[34m2020-09-25 11:35:45,668\u001b[0m] {\u001b[34mdagbag.py:\u001b[0m417} INFO\u001b[0m - Filling up the DagBag from \u001b[01m/root/airflow/dags\u001b[22m\u001b[0m\n",
            "[\u001b[34m2020-09-25 11:35:45,717\u001b[0m] {\u001b[34m__init__.py:\u001b[0m50} INFO\u001b[0m - Using executor \u001b[01mSequentialExecutor\u001b[22m\u001b[0m\n",
            "[\u001b[34m2020-09-25 11:35:45,722\u001b[0m] {\u001b[34mdagbag.py:\u001b[0m417} INFO\u001b[0m - Filling up the DagBag from \u001b[01m/root/airflow/dags\u001b[22m\u001b[0m\n",
            "127.0.0.1 - - [25/Sep/2020:11:35:55 +0000] \"GET / HTTP/1.1\" 302 221 \"-\" \"Mozilla/5.0 (Macintosh; Intel Mac OS X 10_13_6) AppleWebKit/537.36 (KHTML, like Gecko) Chrome/85.0.4183.102 Safari/537.36\"\n",
            "127.0.0.1 - - [25/Sep/2020:11:35:55 +0000] \"GET /admin/ HTTP/1.1\" 200 143432 \"-\" \"Mozilla/5.0 (Macintosh; Intel Mac OS X 10_13_6) AppleWebKit/537.36 (KHTML, like Gecko) Chrome/85.0.4183.102 Safari/537.36\"\n",
            "127.0.0.1 - - [25/Sep/2020:11:35:56 +0000] \"GET /admin/admin/bootstrap/bootstrap3/css/bootstrap-theme.min.css?v=3.3.5 HTTP/1.1\" 200 0 \"http://7ac3677267a9.ngrok.io/admin/\" \"Mozilla/5.0 (Macintosh; Intel Mac OS X 10_13_6) AppleWebKit/537.36 (KHTML, like Gecko) Chrome/85.0.4183.102 Safari/537.36\"\n",
            "127.0.0.1 - - [25/Sep/2020:11:35:56 +0000] \"GET /admin/admin/admin/css/bootstrap3/admin.css?v=1.1.1 HTTP/1.1\" 200 0 \"http://7ac3677267a9.ngrok.io/admin/\" \"Mozilla/5.0 (Macintosh; Intel Mac OS X 10_13_6) AppleWebKit/537.36 (KHTML, like Gecko) Chrome/85.0.4183.102 Safari/537.36\"\n",
            "127.0.0.1 - - [25/Sep/2020:11:35:56 +0000] \"GET /admin/admin/bootstrap/bootstrap3/swatch/default/bootstrap.min.css?v=3.3.5 HTTP/1.1\" 200 0 \"http://7ac3677267a9.ngrok.io/admin/\" \"Mozilla/5.0 (Macintosh; Intel Mac OS X 10_13_6) AppleWebKit/537.36 (KHTML, like Gecko) Chrome/85.0.4183.102 Safari/537.36\"\n",
            "127.0.0.1 - - [25/Sep/2020:11:35:56 +0000] \"GET /admin/admin/admin/css/bootstrap3/submenu.css HTTP/1.1\" 200 0 \"http://7ac3677267a9.ngrok.io/admin/\" \"Mozilla/5.0 (Macintosh; Intel Mac OS X 10_13_6) AppleWebKit/537.36 (KHTML, like Gecko) Chrome/85.0.4183.102 Safari/537.36\"\n",
            "127.0.0.1 - - [25/Sep/2020:11:35:56 +0000] \"GET /static/bootstrap-theme.css HTTP/1.1\" 200 0 \"http://7ac3677267a9.ngrok.io/admin/\" \"Mozilla/5.0 (Macintosh; Intel Mac OS X 10_13_6) AppleWebKit/537.36 (KHTML, like Gecko) Chrome/85.0.4183.102 Safari/537.36\"\n",
            "127.0.0.1 - - [25/Sep/2020:11:35:56 +0000] \"GET /static/main.css HTTP/1.1\" 200 0 \"http://7ac3677267a9.ngrok.io/admin/\" \"Mozilla/5.0 (Macintosh; Intel Mac OS X 10_13_6) AppleWebKit/537.36 (KHTML, like Gecko) Chrome/85.0.4183.102 Safari/537.36\"\n",
            "127.0.0.1 - - [25/Sep/2020:11:35:56 +0000] \"GET /static/dataTables.bootstrap.css HTTP/1.1\" 200 0 \"http://7ac3677267a9.ngrok.io/admin/\" \"Mozilla/5.0 (Macintosh; Intel Mac OS X 10_13_6) AppleWebKit/537.36 (KHTML, like Gecko) Chrome/85.0.4183.102 Safari/537.36\"\n",
            "127.0.0.1 - - [25/Sep/2020:11:35:56 +0000] \"GET /static/bootstrap-toggle.min.css HTTP/1.1\" 200 0 \"http://7ac3677267a9.ngrok.io/admin/\" \"Mozilla/5.0 (Macintosh; Intel Mac OS X 10_13_6) AppleWebKit/537.36 (KHTML, like Gecko) Chrome/85.0.4183.102 Safari/537.36\"\n",
            "127.0.0.1 - - [25/Sep/2020:11:35:56 +0000] \"GET /admin/admin/vendor/jquery.min.js?v=3.3.1 HTTP/1.1\" 200 0 \"http://7ac3677267a9.ngrok.io/admin/\" \"Mozilla/5.0 (Macintosh; Intel Mac OS X 10_13_6) AppleWebKit/537.36 (KHTML, like Gecko) Chrome/85.0.4183.102 Safari/537.36\"\n",
            "127.0.0.1 - - [25/Sep/2020:11:35:56 +0000] \"GET /admin/admin/bootstrap/bootstrap3/js/bootstrap.min.js?v=3.3.5 HTTP/1.1\" 200 0 \"http://7ac3677267a9.ngrok.io/admin/\" \"Mozilla/5.0 (Macintosh; Intel Mac OS X 10_13_6) AppleWebKit/537.36 (KHTML, like Gecko) Chrome/85.0.4183.102 Safari/537.36\"\n",
            "127.0.0.1 - - [25/Sep/2020:11:35:56 +0000] \"GET /admin/admin/vendor/moment.min.js?v=2.22.2 HTTP/1.1\" 200 0 \"http://7ac3677267a9.ngrok.io/admin/\" \"Mozilla/5.0 (Macintosh; Intel Mac OS X 10_13_6) AppleWebKit/537.36 (KHTML, like Gecko) Chrome/85.0.4183.102 Safari/537.36\"\n",
            "127.0.0.1 - - [25/Sep/2020:11:35:56 +0000] \"GET /admin/admin/vendor/select2/select2.min.js?v=3.5.2 HTTP/1.1\" 200 0 \"http://7ac3677267a9.ngrok.io/admin/\" \"Mozilla/5.0 (Macintosh; Intel Mac OS X 10_13_6) AppleWebKit/537.36 (KHTML, like Gecko) Chrome/85.0.4183.102 Safari/537.36\"\n",
            "127.0.0.1 - - [25/Sep/2020:11:35:57 +0000] \"GET /admin/admin/admin/js/helpers.js?v=1.0.0 HTTP/1.1\" 200 0 \"http://7ac3677267a9.ngrok.io/admin/\" \"Mozilla/5.0 (Macintosh; Intel Mac OS X 10_13_6) AppleWebKit/537.36 (KHTML, like Gecko) Chrome/85.0.4183.102 Safari/537.36\"\n",
            "127.0.0.1 - - [25/Sep/2020:11:35:57 +0000] \"GET /static/jqClock.min.js HTTP/1.1\" 200 0 \"http://7ac3677267a9.ngrok.io/admin/\" \"Mozilla/5.0 (Macintosh; Intel Mac OS X 10_13_6) AppleWebKit/537.36 (KHTML, like Gecko) Chrome/85.0.4183.102 Safari/537.36\"\n",
            "127.0.0.1 - - [25/Sep/2020:11:35:57 +0000] \"GET /static/jquery.dataTables.min.js HTTP/1.1\" 200 0 \"http://7ac3677267a9.ngrok.io/admin/\" \"Mozilla/5.0 (Macintosh; Intel Mac OS X 10_13_6) AppleWebKit/537.36 (KHTML, like Gecko) Chrome/85.0.4183.102 Safari/537.36\"\n",
            "127.0.0.1 - - [25/Sep/2020:11:35:57 +0000] \"GET /static/d3.v3.min.js HTTP/1.1\" 200 0 \"http://7ac3677267a9.ngrok.io/admin/\" \"Mozilla/5.0 (Macintosh; Intel Mac OS X 10_13_6) AppleWebKit/537.36 (KHTML, like Gecko) Chrome/85.0.4183.102 Safari/537.36\"\n",
            "127.0.0.1 - - [25/Sep/2020:11:35:57 +0000] \"GET /static/bootstrap-toggle.min.js HTTP/1.1\" 200 0 \"http://7ac3677267a9.ngrok.io/admin/\" \"Mozilla/5.0 (Macintosh; Intel Mac OS X 10_13_6) AppleWebKit/537.36 (KHTML, like Gecko) Chrome/85.0.4183.102 Safari/537.36\"\n",
            "127.0.0.1 - - [25/Sep/2020:11:35:57 +0000] \"GET /static/bootstrap3-typeahead.min.js HTTP/1.1\" 200 0 \"http://7ac3677267a9.ngrok.io/admin/\" \"Mozilla/5.0 (Macintosh; Intel Mac OS X 10_13_6) AppleWebKit/537.36 (KHTML, like Gecko) Chrome/85.0.4183.102 Safari/537.36\"\n",
            "127.0.0.1 - - [25/Sep/2020:11:35:57 +0000] \"GET /static/pin_100.png HTTP/1.1\" 200 0 \"http://7ac3677267a9.ngrok.io/admin/\" \"Mozilla/5.0 (Macintosh; Intel Mac OS X 10_13_6) AppleWebKit/537.36 (KHTML, like Gecko) Chrome/85.0.4183.102 Safari/537.36\"\n",
            "127.0.0.1 - - [25/Sep/2020:11:35:57 +0000] \"GET /admin/admin/bootstrap/bootstrap3/swatch/fonts/glyphicons-halflings-regular.woff2 HTTP/1.1\" 200 0 \"http://7ac3677267a9.ngrok.io/admin/admin/bootstrap/bootstrap3/swatch/default/bootstrap.min.css?v=3.3.5\" \"Mozilla/5.0 (Macintosh; Intel Mac OS X 10_13_6) AppleWebKit/537.36 (KHTML, like Gecko) Chrome/85.0.4183.102 Safari/537.36\"\n",
            "127.0.0.1 - - [25/Sep/2020:11:35:57 +0000] \"GET /static/loading.gif HTTP/1.1\" 200 0 \"http://7ac3677267a9.ngrok.io/admin/\" \"Mozilla/5.0 (Macintosh; Intel Mac OS X 10_13_6) AppleWebKit/537.36 (KHTML, like Gecko) Chrome/85.0.4183.102 Safari/537.36\"\n",
            "127.0.0.1 - - [25/Sep/2020:11:35:57 +0000] \"GET /admin/airflow/blocked HTTP/1.1\" 200 2 \"http://7ac3677267a9.ngrok.io/admin/\" \"Mozilla/5.0 (Macintosh; Intel Mac OS X 10_13_6) AppleWebKit/537.36 (KHTML, like Gecko) Chrome/85.0.4183.102 Safari/537.36\"\n",
            "127.0.0.1 - - [25/Sep/2020:11:35:57 +0000] \"GET /admin/airflow/dag_stats HTTP/1.1\" 200 6410 \"http://7ac3677267a9.ngrok.io/admin/\" \"Mozilla/5.0 (Macintosh; Intel Mac OS X 10_13_6) AppleWebKit/537.36 (KHTML, like Gecko) Chrome/85.0.4183.102 Safari/537.36\"\n",
            "127.0.0.1 - - [25/Sep/2020:11:35:57 +0000] \"GET /admin/airflow/task_stats?dag_ids=example_bash_operator,example_branch_dop_operator_v3,example_branch_operator,example_complex,example_external_task_marker_child,example_external_task_marker_parent,example_http_operator,example_kubernetes_executor_config,example_nested_branch_dag,example_passing_params_via_test_command,example_pig_operator,example_python_operator,example_short_circuit_operator,example_skip_dag,example_subdag_operator,example_trigger_controller_dag,example_trigger_target_dag,example_xcom,latest_only,latest_only_with_trigger,test_utils,tutorial HTTP/1.1\" 200 17980 \"http://7ac3677267a9.ngrok.io/admin/\" \"Mozilla/5.0 (Macintosh; Intel Mac OS X 10_13_6) AppleWebKit/537.36 (KHTML, like Gecko) Chrome/85.0.4183.102 Safari/537.36\"\n",
            "127.0.0.1 - - [25/Sep/2020:11:35:58 +0000] \"GET /static/pin_32.png HTTP/1.1\" 200 0 \"http://7ac3677267a9.ngrok.io/admin/\" \"Mozilla/5.0 (Macintosh; Intel Mac OS X 10_13_6) AppleWebKit/537.36 (KHTML, like Gecko) Chrome/85.0.4183.102 Safari/537.36\"\n",
            "[2020-09-25 11:36:00 +0000] [1644] [INFO] Handling signal: int\n",
            "[\u001b[34m2020-09-25 11:36:00,228\u001b[0m] {\u001b[34mcli.py:\u001b[0m1127} INFO\u001b[0m - Received signal: 2. Closing gunicorn.\u001b[0m\n",
            "[2020-09-25 11:36:00 +0000] [1648] [INFO] Worker exiting (pid: 1648)\n",
            "\u001b[0m[2020-09-25 11:36:00 +0000] [1651] [INFO] Worker exiting (pid: 1651)\n",
            "\u001b[0m[2020-09-25 11:36:00 +0000] [1650] [INFO] Worker exiting (pid: 1650)\n",
            "[2020-09-25 11:36:00 +0000] [1649] [INFO] Worker exiting (pid: 1649)\n",
            "\u001b[0m\u001b[0m[2020-09-25 11:36:01 +0000] [1644] [INFO] Shutting down: Master\n",
            "\u001b[0m\u001b[0m"
          ],
          "name": "stdout"
        }
      ]
    },
    {
      "cell_type": "markdown",
      "metadata": {
        "id": "tCnt3Usa9tk-",
        "colab_type": "text"
      },
      "source": [
        "## Sorry! We don't have enough time to make our own DAG here (timeboxed myself to an hour), but here's a good tutorial on the [topic](http://michal.karzynski.pl/blog/2017/03/19/developing-workflows-with-apache-airflow/) :)"
      ]
    },
    {
      "cell_type": "code",
      "metadata": {
        "id": "jlyTvaz78328",
        "colab_type": "code",
        "colab": {}
      },
      "source": [
        ""
      ],
      "execution_count": null,
      "outputs": []
    }
  ]
}